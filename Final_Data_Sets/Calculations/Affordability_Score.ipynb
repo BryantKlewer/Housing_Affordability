{
 "cells": [
  {
   "cell_type": "code",
   "execution_count": 1,
   "metadata": {
    "collapsed": true,
    "pycharm": {
     "name": "#%%\n"
    }
   },
   "outputs": [],
   "source": [
    "# Import dependencies\n",
    "import pandas as pd"
   ]
  },
  {
   "cell_type": "code",
   "execution_count": 2,
   "outputs": [],
   "source": [
    "# Set file location\n",
    "master_data = \"Datasets/CSV/Master_Data_Set.csv\""
   ],
   "metadata": {
    "collapsed": false,
    "pycharm": {
     "name": "#%%\n"
    }
   }
  },
  {
   "cell_type": "code",
   "execution_count": 3,
   "outputs": [
    {
     "data": {
      "text/plain": "   Identifier  City_Rank_by_Population(2021)     State State_Abbreviation  \\\n0      201101                              1  New York                 NY   \n1      201201                              1  New York                 NY   \n2      201301                              1  New York                 NY   \n3      201401                              1  New York                 NY   \n4      201501                              1  New York                 NY   \n\n       City Observation_Date  Single_Family_Median_Typical_Home_Value  \\\n0  New York         1/1/2011                                 460824.0   \n1  New York         1/1/2012                                 453166.5   \n2  New York         1/1/2013                                 467125.5   \n3  New York         1/1/2014                                 499898.0   \n4  New York         1/1/2015                                 526189.0   \n\n   One_Bedroom_Median_Typical_Home_Value  \\\n0                               419555.5   \n1                               421581.5   \n2                               445182.5   \n3                               487199.5   \n4                               536285.0   \n\n   Two_Bedroom_Median_Typical_Home_Value  \\\n0                               549450.5   \n1                               549293.0   \n2                               579800.5   \n3                               634870.5   \n4                               689511.5   \n\n   Three_Bedroom_Median_Typical_Home_Value  ...  \\\n0                                 455413.0  ...   \n1                                 448447.0  ...   \n2                                 461446.5  ...   \n3                                 493995.0  ...   \n4                                 522588.5  ...   \n\n   3br_30yr_Payment_10_Perc_Down  3br_30yr_Payment_20_Perc_Down  \\\n0                        2064.60                        1835.20   \n1                        1848.59                        1643.19   \n2                        1977.93                        1758.16   \n3                        2166.37                        1925.66   \n4                        2204.94                        1959.95   \n\n   4br_15yr_Payment_10_Perc_Down  4br_15yr_Payment_20_Perc_Down  \\\n0                        3469.14                        3083.68   \n1                        3254.72                        2893.08   \n2                        3401.49                        3023.54   \n3                        3733.00                        3318.22   \n4                        3931.57                        3494.73   \n\n   4br_30yr_Payment_10_Perc_Down  4br_30yr_Payment_20_Perc_Down  \\\n0                        2414.45                        2146.18   \n1                        2169.23                        1928.20   \n2                        2327.98                        2069.31   \n3                        2581.51                        2294.68   \n4                        2652.33                        2357.63   \n\n   5_plus_br_15yr_Payment_10_Perc_Down  5_plus_br_15yr_Payment_20_Perc_Down  \\\n0                              4295.39                              3818.13   \n1                              4064.51                              3612.89   \n2                              4311.78                              3832.70   \n3                              4802.80                              4269.15   \n4                              5194.72                              4617.53   \n\n   5_plus_br_30yr_Payment_10_Perc_Down  5_plus_br_30yr_Payment_20_Perc_Down  \n0                              2989.51                              2657.34  \n1                              2708.94                              2407.95  \n2                              2950.98                              2623.10  \n3                              3321.32                              2952.28  \n4                              3504.48                              3115.10  \n\n[5 rows x 43 columns]",
      "text/html": "<div>\n<style scoped>\n    .dataframe tbody tr th:only-of-type {\n        vertical-align: middle;\n    }\n\n    .dataframe tbody tr th {\n        vertical-align: top;\n    }\n\n    .dataframe thead th {\n        text-align: right;\n    }\n</style>\n<table border=\"1\" class=\"dataframe\">\n  <thead>\n    <tr style=\"text-align: right;\">\n      <th></th>\n      <th>Identifier</th>\n      <th>City_Rank_by_Population(2021)</th>\n      <th>State</th>\n      <th>State_Abbreviation</th>\n      <th>City</th>\n      <th>Observation_Date</th>\n      <th>Single_Family_Median_Typical_Home_Value</th>\n      <th>One_Bedroom_Median_Typical_Home_Value</th>\n      <th>Two_Bedroom_Median_Typical_Home_Value</th>\n      <th>Three_Bedroom_Median_Typical_Home_Value</th>\n      <th>...</th>\n      <th>3br_30yr_Payment_10_Perc_Down</th>\n      <th>3br_30yr_Payment_20_Perc_Down</th>\n      <th>4br_15yr_Payment_10_Perc_Down</th>\n      <th>4br_15yr_Payment_20_Perc_Down</th>\n      <th>4br_30yr_Payment_10_Perc_Down</th>\n      <th>4br_30yr_Payment_20_Perc_Down</th>\n      <th>5_plus_br_15yr_Payment_10_Perc_Down</th>\n      <th>5_plus_br_15yr_Payment_20_Perc_Down</th>\n      <th>5_plus_br_30yr_Payment_10_Perc_Down</th>\n      <th>5_plus_br_30yr_Payment_20_Perc_Down</th>\n    </tr>\n  </thead>\n  <tbody>\n    <tr>\n      <th>0</th>\n      <td>201101</td>\n      <td>1</td>\n      <td>New York</td>\n      <td>NY</td>\n      <td>New York</td>\n      <td>1/1/2011</td>\n      <td>460824.0</td>\n      <td>419555.5</td>\n      <td>549450.5</td>\n      <td>455413.0</td>\n      <td>...</td>\n      <td>2064.60</td>\n      <td>1835.20</td>\n      <td>3469.14</td>\n      <td>3083.68</td>\n      <td>2414.45</td>\n      <td>2146.18</td>\n      <td>4295.39</td>\n      <td>3818.13</td>\n      <td>2989.51</td>\n      <td>2657.34</td>\n    </tr>\n    <tr>\n      <th>1</th>\n      <td>201201</td>\n      <td>1</td>\n      <td>New York</td>\n      <td>NY</td>\n      <td>New York</td>\n      <td>1/1/2012</td>\n      <td>453166.5</td>\n      <td>421581.5</td>\n      <td>549293.0</td>\n      <td>448447.0</td>\n      <td>...</td>\n      <td>1848.59</td>\n      <td>1643.19</td>\n      <td>3254.72</td>\n      <td>2893.08</td>\n      <td>2169.23</td>\n      <td>1928.20</td>\n      <td>4064.51</td>\n      <td>3612.89</td>\n      <td>2708.94</td>\n      <td>2407.95</td>\n    </tr>\n    <tr>\n      <th>2</th>\n      <td>201301</td>\n      <td>1</td>\n      <td>New York</td>\n      <td>NY</td>\n      <td>New York</td>\n      <td>1/1/2013</td>\n      <td>467125.5</td>\n      <td>445182.5</td>\n      <td>579800.5</td>\n      <td>461446.5</td>\n      <td>...</td>\n      <td>1977.93</td>\n      <td>1758.16</td>\n      <td>3401.49</td>\n      <td>3023.54</td>\n      <td>2327.98</td>\n      <td>2069.31</td>\n      <td>4311.78</td>\n      <td>3832.70</td>\n      <td>2950.98</td>\n      <td>2623.10</td>\n    </tr>\n    <tr>\n      <th>3</th>\n      <td>201401</td>\n      <td>1</td>\n      <td>New York</td>\n      <td>NY</td>\n      <td>New York</td>\n      <td>1/1/2014</td>\n      <td>499898.0</td>\n      <td>487199.5</td>\n      <td>634870.5</td>\n      <td>493995.0</td>\n      <td>...</td>\n      <td>2166.37</td>\n      <td>1925.66</td>\n      <td>3733.00</td>\n      <td>3318.22</td>\n      <td>2581.51</td>\n      <td>2294.68</td>\n      <td>4802.80</td>\n      <td>4269.15</td>\n      <td>3321.32</td>\n      <td>2952.28</td>\n    </tr>\n    <tr>\n      <th>4</th>\n      <td>201501</td>\n      <td>1</td>\n      <td>New York</td>\n      <td>NY</td>\n      <td>New York</td>\n      <td>1/1/2015</td>\n      <td>526189.0</td>\n      <td>536285.0</td>\n      <td>689511.5</td>\n      <td>522588.5</td>\n      <td>...</td>\n      <td>2204.94</td>\n      <td>1959.95</td>\n      <td>3931.57</td>\n      <td>3494.73</td>\n      <td>2652.33</td>\n      <td>2357.63</td>\n      <td>5194.72</td>\n      <td>4617.53</td>\n      <td>3504.48</td>\n      <td>3115.10</td>\n    </tr>\n  </tbody>\n</table>\n<p>5 rows × 43 columns</p>\n</div>"
     },
     "execution_count": 3,
     "metadata": {},
     "output_type": "execute_result"
    }
   ],
   "source": [
    "# Read in csv file to a dataframe\n",
    "df = pd.read_csv(master_data)\n",
    "df.head()"
   ],
   "metadata": {
    "collapsed": false,
    "pycharm": {
     "name": "#%%\n"
    }
   }
  },
  {
   "cell_type": "code",
   "execution_count": 4,
   "outputs": [
    {
     "data": {
      "text/plain": "Identifier                                       int64\nCity_Rank_by_Population(2021)                    int64\nState                                           object\nState_Abbreviation                              object\nCity                                            object\nObservation_Date                                object\nSingle_Family_Median_Typical_Home_Value        float64\nOne_Bedroom_Median_Typical_Home_Value          float64\nTwo_Bedroom_Median_Typical_Home_Value          float64\nThree_Bedroom_Median_Typical_Home_Value        float64\nFour_Bedroom_Median_Typical_Home_Value         float64\nFive_Plus_Bedroom_Median_Typical_Home_Value    float64\nEstimated_Median_Household_Income                int64\n2021_estimated_population                        int64\n2020_census                                      int64\nMedian_Taxes                                     int64\nMedian_Rent                                      int64\nAnnualAverageRate15Year                        float64\nAnnualAverageRate30Year                        float64\nhome_15yr_Payment_10_Perc_Down                 float64\nhome_15yr_Payment_20_Perc_Down                 float64\nhome_30yr_Payment_10_Perc_Down                 float64\nhome_30yr_Payment_20_Perc_Down                 float64\n1br_15yr_Payment_10_Perc_Down                  float64\n1br_15yr_Payment_20_Perc_Down                  float64\n1br_30yr_Payment_10_Perc_Down                  float64\n1br_30yr_Payment_20_Perc_Down                  float64\n2br_15yr_Payment_10_Perc_Down                  float64\n2br_15yr_Payment_20_Perc_Down                  float64\n2br_30yr_Payment_10_Perc_Down                  float64\n2br_30yr_Payment_20_Perc_Down                  float64\n3br_15yr_Payment_10_Perc_Down                  float64\n3br_15yr_Payment_20_Perc_Down                  float64\n3br_30yr_Payment_10_Perc_Down                  float64\n3br_30yr_Payment_20_Perc_Down                  float64\n4br_15yr_Payment_10_Perc_Down                  float64\n4br_15yr_Payment_20_Perc_Down                  float64\n4br_30yr_Payment_10_Perc_Down                  float64\n4br_30yr_Payment_20_Perc_Down                  float64\n5_plus_br_15yr_Payment_10_Perc_Down            float64\n5_plus_br_15yr_Payment_20_Perc_Down            float64\n5_plus_br_30yr_Payment_10_Perc_Down            float64\n5_plus_br_30yr_Payment_20_Perc_Down            float64\ndtype: object"
     },
     "execution_count": 4,
     "metadata": {},
     "output_type": "execute_result"
    }
   ],
   "source": [
    "# Check the data types\n",
    "df.dtypes"
   ],
   "metadata": {
    "collapsed": false,
    "pycharm": {
     "name": "#%%\n"
    }
   }
  },
  {
   "cell_type": "code",
   "execution_count": 5,
   "outputs": [],
   "source": [
    "# Convert \"Observation_Date\" to a date\n",
    "df['Observation_Date'] = pd.to_datetime(df['Observation_Date'], format='%m/%d/%Y')"
   ],
   "metadata": {
    "collapsed": false,
    "pycharm": {
     "name": "#%%\n"
    }
   }
  },
  {
   "cell_type": "code",
   "execution_count": 6,
   "outputs": [
    {
     "data": {
      "text/plain": "Identifier                                              int64\nCity_Rank_by_Population(2021)                           int64\nState                                                  object\nState_Abbreviation                                     object\nCity                                                   object\nObservation_Date                               datetime64[ns]\nSingle_Family_Median_Typical_Home_Value               float64\nOne_Bedroom_Median_Typical_Home_Value                 float64\nTwo_Bedroom_Median_Typical_Home_Value                 float64\nThree_Bedroom_Median_Typical_Home_Value               float64\nFour_Bedroom_Median_Typical_Home_Value                float64\nFive_Plus_Bedroom_Median_Typical_Home_Value           float64\nEstimated_Median_Household_Income                       int64\n2021_estimated_population                               int64\n2020_census                                             int64\nMedian_Taxes                                            int64\nMedian_Rent                                             int64\nAnnualAverageRate15Year                               float64\nAnnualAverageRate30Year                               float64\nhome_15yr_Payment_10_Perc_Down                        float64\nhome_15yr_Payment_20_Perc_Down                        float64\nhome_30yr_Payment_10_Perc_Down                        float64\nhome_30yr_Payment_20_Perc_Down                        float64\n1br_15yr_Payment_10_Perc_Down                         float64\n1br_15yr_Payment_20_Perc_Down                         float64\n1br_30yr_Payment_10_Perc_Down                         float64\n1br_30yr_Payment_20_Perc_Down                         float64\n2br_15yr_Payment_10_Perc_Down                         float64\n2br_15yr_Payment_20_Perc_Down                         float64\n2br_30yr_Payment_10_Perc_Down                         float64\n2br_30yr_Payment_20_Perc_Down                         float64\n3br_15yr_Payment_10_Perc_Down                         float64\n3br_15yr_Payment_20_Perc_Down                         float64\n3br_30yr_Payment_10_Perc_Down                         float64\n3br_30yr_Payment_20_Perc_Down                         float64\n4br_15yr_Payment_10_Perc_Down                         float64\n4br_15yr_Payment_20_Perc_Down                         float64\n4br_30yr_Payment_10_Perc_Down                         float64\n4br_30yr_Payment_20_Perc_Down                         float64\n5_plus_br_15yr_Payment_10_Perc_Down                   float64\n5_plus_br_15yr_Payment_20_Perc_Down                   float64\n5_plus_br_30yr_Payment_10_Perc_Down                   float64\n5_plus_br_30yr_Payment_20_Perc_Down                   float64\ndtype: object"
     },
     "execution_count": 6,
     "metadata": {},
     "output_type": "execute_result"
    }
   ],
   "source": [
    "# Check that data types are now correct\n",
    "df.dtypes"
   ],
   "metadata": {
    "collapsed": false,
    "pycharm": {
     "name": "#%%\n"
    }
   }
  },
  {
   "cell_type": "code",
   "execution_count": 7,
   "outputs": [],
   "source": [
    "# Divide the Median Household Income by 12 to get a median monthly income\n",
    "df['Median_Monthly_Income'] = df['Estimated_Median_Household_Income']/12"
   ],
   "metadata": {
    "collapsed": false,
    "pycharm": {
     "name": "#%%\n"
    }
   }
  },
  {
   "cell_type": "code",
   "execution_count": 8,
   "outputs": [],
   "source": [
    "# Multiply the Median_Monthly_Income by 0.3 to determine 30% of monthly income. This is the affordability limit.\n",
    "df['Monthly_Affordability_Limit'] = df['Median_Monthly_Income']*0.3"
   ],
   "metadata": {
    "collapsed": false,
    "pycharm": {
     "name": "#%%\n"
    }
   }
  },
  {
   "cell_type": "code",
   "execution_count": 9,
   "outputs": [],
   "source": [
    "# Create affordability rates for all home types and loan periods. This is the Monthly_Affordability_Limit/monthly payment\n",
    "# Rental Rate\n",
    "df['affordability_rent'] = df['Monthly_Affordability_Limit']/df['Median_Rent']\n",
    "# Single Family Home Affordability Rates\n",
    "df['affordability_home_15yr_Payment_10_Perc_Down'] = df['Monthly_Affordability_Limit']/df['home_15yr_Payment_10_Perc_Down']\n",
    "df['affordability_home_15yr_Payment_20_Perc_Down'] = df['Monthly_Affordability_Limit']/df['home_15yr_Payment_20_Perc_Down']\n",
    "df['affordability_home_30yr_Payment_10_Perc_Down'] = df['Monthly_Affordability_Limit']/df['home_30yr_Payment_10_Perc_Down']\n",
    "df['affordability_home_30yr_Payment_20_Perc_Down']  = df['Monthly_Affordability_Limit']/df['home_30yr_Payment_20_Perc_Down']\n",
    "# 1 Bedroom Home Affordability Rates\n",
    "df['affordability_1br_15yr_Payment_10_Perc_Down'] = df['Monthly_Affordability_Limit']/df['1br_15yr_Payment_10_Perc_Down']\n",
    "df['affordability_1br_15yr_Payment_20_Perc_Down'] = df['Monthly_Affordability_Limit']/df['1br_15yr_Payment_20_Perc_Down']\n",
    "df['affordability_1br_30yr_Payment_10_Perc_Down'] = df['Monthly_Affordability_Limit']/df['1br_30yr_Payment_10_Perc_Down']\n",
    "df['affordability_1br_30yr_Payment_20_Perc_Down']  = df['Monthly_Affordability_Limit']/df['1br_30yr_Payment_20_Perc_Down']\n",
    "# 2 Bedroom Home Affordability Rates\n",
    "df['affordability_2br_15yr_Payment_10_Perc_Down'] = df['Monthly_Affordability_Limit']/df['2br_15yr_Payment_10_Perc_Down']\n",
    "df['affordability_2br_15yr_Payment_20_Perc_Down'] = df['Monthly_Affordability_Limit']/df['2br_15yr_Payment_20_Perc_Down']\n",
    "df['affordability_2br_30yr_Payment_10_Perc_Down'] = df['Monthly_Affordability_Limit']/df['2br_30yr_Payment_10_Perc_Down']\n",
    "df['affordability_2br_30yr_Payment_20_Perc_Down']  = df['Monthly_Affordability_Limit']/df['2br_30yr_Payment_20_Perc_Down']\n",
    "# 3 Bedroom Home Affordability Rates\n",
    "df['affordability_3br_15yr_Payment_10_Perc_Down'] = df['Monthly_Affordability_Limit']/df['3br_15yr_Payment_10_Perc_Down']\n",
    "df['affordability_3br_15yr_Payment_20_Perc_Down'] = df['Monthly_Affordability_Limit']/df['3br_15yr_Payment_20_Perc_Down']\n",
    "df['affordability_3br_30yr_Payment_10_Perc_Down'] = df['Monthly_Affordability_Limit']/df['3br_30yr_Payment_10_Perc_Down']\n",
    "df['affordability_3br_30yr_Payment_20_Perc_Down']  = df['Monthly_Affordability_Limit']/df['3br_30yr_Payment_20_Perc_Down']\n",
    "# 4 Bedroom Home Affordability Rates\n",
    "df['affordability_4br_15yr_Payment_10_Perc_Down'] = df['Monthly_Affordability_Limit']/df['4br_15yr_Payment_10_Perc_Down']\n",
    "df['affordability_4br_15yr_Payment_20_Perc_Down'] = df['Monthly_Affordability_Limit']/df['4br_15yr_Payment_20_Perc_Down']\n",
    "df['affordability_4br_30yr_Payment_10_Perc_Down'] = df['Monthly_Affordability_Limit']/df['4br_30yr_Payment_10_Perc_Down']\n",
    "df['affordability_4br_30yr_Payment_20_Perc_Down']  = df['Monthly_Affordability_Limit']/df['4br_30yr_Payment_20_Perc_Down']\n",
    "# 5 Bedroom Home Affordability Rates\n",
    "df['affordability_5_plus_br_15yr_Payment_10_Perc_Down'] = df['Monthly_Affordability_Limit']/df['5_plus_br_15yr_Payment_10_Perc_Down']\n",
    "df['affordability_5_plus_br_15yr_Payment_20_Perc_Down'] = df['Monthly_Affordability_Limit']/df['5_plus_br_15yr_Payment_20_Perc_Down']\n",
    "df['affordability_5_plus_br_30yr_Payment_10_Perc_Down'] = df['Monthly_Affordability_Limit']/df['5_plus_br_30yr_Payment_10_Perc_Down']\n",
    "df['affordability_5_plus_br_30yr_Payment_20_Perc_Down']  = df['Monthly_Affordability_Limit']/df['5_plus_br_30yr_Payment_20_Perc_Down']"
   ],
   "metadata": {
    "collapsed": false,
    "pycharm": {
     "name": "#%%\n"
    }
   }
  },
  {
   "cell_type": "code",
   "execution_count": 10,
   "outputs": [],
   "source": [
    "# Create Affordability Dataframe\n",
    "affordability_df = df[['Identifier', 'Observation_Date', 'Median_Monthly_Income', 'Monthly_Affordability_Limit', 'affordability_rent', 'affordability_home_15yr_Payment_10_Perc_Down', 'affordability_home_15yr_Payment_20_Perc_Down', 'affordability_home_30yr_Payment_10_Perc_Down', 'affordability_home_30yr_Payment_20_Perc_Down', 'affordability_1br_15yr_Payment_10_Perc_Down', 'affordability_1br_15yr_Payment_20_Perc_Down', 'affordability_1br_30yr_Payment_10_Perc_Down', 'affordability_1br_30yr_Payment_20_Perc_Down', 'affordability_2br_15yr_Payment_10_Perc_Down', 'affordability_2br_15yr_Payment_20_Perc_Down', 'affordability_2br_30yr_Payment_10_Perc_Down', 'affordability_2br_30yr_Payment_20_Perc_Down','affordability_3br_15yr_Payment_10_Perc_Down', 'affordability_3br_15yr_Payment_20_Perc_Down', 'affordability_3br_30yr_Payment_10_Perc_Down', 'affordability_3br_30yr_Payment_20_Perc_Down', 'affordability_4br_15yr_Payment_10_Perc_Down', 'affordability_4br_15yr_Payment_20_Perc_Down', 'affordability_4br_30yr_Payment_10_Perc_Down', 'affordability_4br_30yr_Payment_20_Perc_Down', 'affordability_5_plus_br_15yr_Payment_10_Perc_Down', 'affordability_5_plus_br_15yr_Payment_20_Perc_Down', 'affordability_5_plus_br_30yr_Payment_10_Perc_Down', 'affordability_5_plus_br_30yr_Payment_20_Perc_Down']]"
   ],
   "metadata": {
    "collapsed": false,
    "pycharm": {
     "name": "#%%\n"
    }
   }
  },
  {
   "cell_type": "code",
   "execution_count": 11,
   "outputs": [
    {
     "data": {
      "text/plain": "   Identifier Observation_Date  Median_Monthly_Income  \\\n0      201101       2011-01-01            4121.750000   \n1      201201       2012-01-01            4241.250000   \n2      201301       2013-01-01            4351.916667   \n3      201401       2014-01-01            4416.333333   \n4      201501       2015-01-01            4646.000000   \n5      201601       2016-01-01            4904.666667   \n6      201701       2017-01-01            5073.250000   \n7      201801       2018-01-01            5316.583333   \n8      201901       2019-01-01            5783.916667   \n9      202001       2020-01-01            5587.166667   \n\n   Monthly_Affordability_Limit  affordability_rent  \\\n0                     1236.525            1.058669   \n1                     1272.375            1.063859   \n2                     1305.575            1.063172   \n3                     1324.900            1.038323   \n4                     1393.800            1.058314   \n5                     1471.400            1.089119   \n6                     1521.975            1.103680   \n7                     1594.975            1.105319   \n8                     1735.175            1.170044   \n9                     1676.150            1.125688   \n\n   affordability_home_15yr_Payment_10_Perc_Down  \\\n0                                      0.411940   \n1                                      0.453961   \n2                                      0.446260   \n3                                      0.417934   \n4                                      0.423528   \n5                                      0.421431   \n6                                      0.393950   \n7                                      0.364321   \n8                                      0.403066   \n9                                      0.411187   \n\n   affordability_home_15yr_Payment_20_Perc_Down  \\\n0                                      0.463432   \n1                                      0.510707   \n2                                      0.502044   \n3                                      0.470176   \n4                                      0.476469   \n5                                      0.474110   \n6                                      0.443193   \n7                                      0.409861   \n8                                      0.453448   \n9                                      0.462585   \n\n   affordability_home_30yr_Payment_10_Perc_Down  \\\n0                                      0.591885   \n1                                      0.681125   \n2                                      0.652047   \n3                                      0.604353   \n4                                      0.627798   \n5                                      0.633094   \n6                                      0.581728   \n7                                      0.529371   \n8                                      0.603365   \n9                                      0.646249   \n\n   affordability_home_30yr_Payment_20_Perc_Down  \\\n0                                      0.665869   \n1                                      0.766265   \n2                                      0.733552   \n3                                      0.679900   \n4                                      0.706276   \n5                                      0.712232   \n6                                      0.654444   \n7                                      0.595542   \n8                                      0.678784   \n9                                      0.727029   \n\n   affordability_1br_15yr_Payment_10_Perc_Down  ...  \\\n0                                     0.452459  ...   \n1                                     0.487973  ...   \n2                                     0.468257  ...   \n3                                     0.428827  ...   \n4                                     0.415555  ...   \n5                                     0.417882  ...   \n6                                     0.402321  ...   \n7                                     0.388891  ...   \n8                                     0.444580  ...   \n9                                     0.460959  ...   \n\n   affordability_3br_30yr_Payment_10_Perc_Down  \\\n0                                     0.598917   \n1                                     0.688295   \n2                                     0.660071   \n3                                     0.611576   \n4                                     0.632126   \n5                                     0.642642   \n6                                     0.591879   \n7                                     0.537314   \n8                                     0.615537   \n9                                     0.660125   \n\n   affordability_3br_30yr_Payment_20_Perc_Down  \\\n0                                     0.673782   \n1                                     0.774332   \n2                                     0.742580   \n3                                     0.688024   \n4                                     0.711141   \n5                                     0.722972   \n6                                     0.665862   \n7                                     0.604478   \n8                                     0.692480   \n9                                     0.742642   \n\n   affordability_4br_15yr_Payment_10_Perc_Down  \\\n0                                     0.356436   \n1                                     0.390932   \n2                                     0.383824   \n3                                     0.354916   \n4                                     0.354515   \n5                                     0.354157   \n6                                     0.332106   \n7                                     0.307267   \n8                                     0.341787   \n9                                     0.350256   \n\n   affordability_4br_15yr_Payment_20_Perc_Down  \\\n0                                     0.400990   \n1                                     0.439799   \n2                                     0.431803   \n3                                     0.399280   \n4                                     0.398829   \n5                                     0.398426   \n6                                     0.373619   \n7                                     0.345676   \n8                                     0.384511   \n9                                     0.394038   \n\n   affordability_4br_30yr_Payment_10_Perc_Down  \\\n0                                     0.512135   \n1                                     0.586556   \n2                                     0.560819   \n3                                     0.513227   \n4                                     0.525500   \n5                                     0.532033   \n6                                     0.490408   \n7                                     0.446469   \n8                                     0.511635   \n9                                     0.550485   \n\n   affordability_4br_30yr_Payment_20_Perc_Down  \\\n0                                     0.576152   \n1                                     0.659877   \n2                                     0.630923   \n3                                     0.577379   \n4                                     0.591187   \n5                                     0.598536   \n6                                     0.551708   \n7                                     0.502278   \n8                                     0.575589   \n9                                     0.619294   \n\n   affordability_5_plus_br_15yr_Payment_10_Perc_Down  \\\n0                                           0.287873   \n1                                           0.313045   \n2                                           0.302793   \n3                                           0.275860   \n4                                           0.268311   \n5                                           0.263526   \n6                                           0.246564   \n7                                           0.229231   \n8                                           0.252791   \n9                                           0.257601   \n\n   affordability_5_plus_br_15yr_Payment_20_Perc_Down  \\\n0                                           0.323856   \n1                                           0.352177   \n2                                           0.340641   \n3                                           0.310343   \n4                                           0.301850   \n5                                           0.296467   \n6                                           0.277384   \n7                                           0.257885   \n8                                           0.284390   \n9                                           0.289801   \n\n   affordability_5_plus_br_30yr_Payment_10_Perc_Down  \\\n0                                           0.413621   \n1                                           0.469695   \n2                                           0.442421   \n3                                           0.398908   \n4                                           0.397719   \n5                                           0.395882   \n6                                           0.364091   \n7                                           0.333080   \n8                                           0.378413   \n9                                           0.404861   \n\n   affordability_5_plus_br_30yr_Payment_20_Perc_Down  \n0                                           0.465324  \n1                                           0.528406  \n2                                           0.497722  \n3                                           0.448772  \n4                                           0.447433  \n5                                           0.445369  \n6                                           0.409602  \n7                                           0.374714  \n8                                           0.425715  \n9                                           0.455469  \n\n[10 rows x 29 columns]",
      "text/html": "<div>\n<style scoped>\n    .dataframe tbody tr th:only-of-type {\n        vertical-align: middle;\n    }\n\n    .dataframe tbody tr th {\n        vertical-align: top;\n    }\n\n    .dataframe thead th {\n        text-align: right;\n    }\n</style>\n<table border=\"1\" class=\"dataframe\">\n  <thead>\n    <tr style=\"text-align: right;\">\n      <th></th>\n      <th>Identifier</th>\n      <th>Observation_Date</th>\n      <th>Median_Monthly_Income</th>\n      <th>Monthly_Affordability_Limit</th>\n      <th>affordability_rent</th>\n      <th>affordability_home_15yr_Payment_10_Perc_Down</th>\n      <th>affordability_home_15yr_Payment_20_Perc_Down</th>\n      <th>affordability_home_30yr_Payment_10_Perc_Down</th>\n      <th>affordability_home_30yr_Payment_20_Perc_Down</th>\n      <th>affordability_1br_15yr_Payment_10_Perc_Down</th>\n      <th>...</th>\n      <th>affordability_3br_30yr_Payment_10_Perc_Down</th>\n      <th>affordability_3br_30yr_Payment_20_Perc_Down</th>\n      <th>affordability_4br_15yr_Payment_10_Perc_Down</th>\n      <th>affordability_4br_15yr_Payment_20_Perc_Down</th>\n      <th>affordability_4br_30yr_Payment_10_Perc_Down</th>\n      <th>affordability_4br_30yr_Payment_20_Perc_Down</th>\n      <th>affordability_5_plus_br_15yr_Payment_10_Perc_Down</th>\n      <th>affordability_5_plus_br_15yr_Payment_20_Perc_Down</th>\n      <th>affordability_5_plus_br_30yr_Payment_10_Perc_Down</th>\n      <th>affordability_5_plus_br_30yr_Payment_20_Perc_Down</th>\n    </tr>\n  </thead>\n  <tbody>\n    <tr>\n      <th>0</th>\n      <td>201101</td>\n      <td>2011-01-01</td>\n      <td>4121.750000</td>\n      <td>1236.525</td>\n      <td>1.058669</td>\n      <td>0.411940</td>\n      <td>0.463432</td>\n      <td>0.591885</td>\n      <td>0.665869</td>\n      <td>0.452459</td>\n      <td>...</td>\n      <td>0.598917</td>\n      <td>0.673782</td>\n      <td>0.356436</td>\n      <td>0.400990</td>\n      <td>0.512135</td>\n      <td>0.576152</td>\n      <td>0.287873</td>\n      <td>0.323856</td>\n      <td>0.413621</td>\n      <td>0.465324</td>\n    </tr>\n    <tr>\n      <th>1</th>\n      <td>201201</td>\n      <td>2012-01-01</td>\n      <td>4241.250000</td>\n      <td>1272.375</td>\n      <td>1.063859</td>\n      <td>0.453961</td>\n      <td>0.510707</td>\n      <td>0.681125</td>\n      <td>0.766265</td>\n      <td>0.487973</td>\n      <td>...</td>\n      <td>0.688295</td>\n      <td>0.774332</td>\n      <td>0.390932</td>\n      <td>0.439799</td>\n      <td>0.586556</td>\n      <td>0.659877</td>\n      <td>0.313045</td>\n      <td>0.352177</td>\n      <td>0.469695</td>\n      <td>0.528406</td>\n    </tr>\n    <tr>\n      <th>2</th>\n      <td>201301</td>\n      <td>2013-01-01</td>\n      <td>4351.916667</td>\n      <td>1305.575</td>\n      <td>1.063172</td>\n      <td>0.446260</td>\n      <td>0.502044</td>\n      <td>0.652047</td>\n      <td>0.733552</td>\n      <td>0.468257</td>\n      <td>...</td>\n      <td>0.660071</td>\n      <td>0.742580</td>\n      <td>0.383824</td>\n      <td>0.431803</td>\n      <td>0.560819</td>\n      <td>0.630923</td>\n      <td>0.302793</td>\n      <td>0.340641</td>\n      <td>0.442421</td>\n      <td>0.497722</td>\n    </tr>\n    <tr>\n      <th>3</th>\n      <td>201401</td>\n      <td>2014-01-01</td>\n      <td>4416.333333</td>\n      <td>1324.900</td>\n      <td>1.038323</td>\n      <td>0.417934</td>\n      <td>0.470176</td>\n      <td>0.604353</td>\n      <td>0.679900</td>\n      <td>0.428827</td>\n      <td>...</td>\n      <td>0.611576</td>\n      <td>0.688024</td>\n      <td>0.354916</td>\n      <td>0.399280</td>\n      <td>0.513227</td>\n      <td>0.577379</td>\n      <td>0.275860</td>\n      <td>0.310343</td>\n      <td>0.398908</td>\n      <td>0.448772</td>\n    </tr>\n    <tr>\n      <th>4</th>\n      <td>201501</td>\n      <td>2015-01-01</td>\n      <td>4646.000000</td>\n      <td>1393.800</td>\n      <td>1.058314</td>\n      <td>0.423528</td>\n      <td>0.476469</td>\n      <td>0.627798</td>\n      <td>0.706276</td>\n      <td>0.415555</td>\n      <td>...</td>\n      <td>0.632126</td>\n      <td>0.711141</td>\n      <td>0.354515</td>\n      <td>0.398829</td>\n      <td>0.525500</td>\n      <td>0.591187</td>\n      <td>0.268311</td>\n      <td>0.301850</td>\n      <td>0.397719</td>\n      <td>0.447433</td>\n    </tr>\n    <tr>\n      <th>5</th>\n      <td>201601</td>\n      <td>2016-01-01</td>\n      <td>4904.666667</td>\n      <td>1471.400</td>\n      <td>1.089119</td>\n      <td>0.421431</td>\n      <td>0.474110</td>\n      <td>0.633094</td>\n      <td>0.712232</td>\n      <td>0.417882</td>\n      <td>...</td>\n      <td>0.642642</td>\n      <td>0.722972</td>\n      <td>0.354157</td>\n      <td>0.398426</td>\n      <td>0.532033</td>\n      <td>0.598536</td>\n      <td>0.263526</td>\n      <td>0.296467</td>\n      <td>0.395882</td>\n      <td>0.445369</td>\n    </tr>\n    <tr>\n      <th>6</th>\n      <td>201701</td>\n      <td>2017-01-01</td>\n      <td>5073.250000</td>\n      <td>1521.975</td>\n      <td>1.103680</td>\n      <td>0.393950</td>\n      <td>0.443193</td>\n      <td>0.581728</td>\n      <td>0.654444</td>\n      <td>0.402321</td>\n      <td>...</td>\n      <td>0.591879</td>\n      <td>0.665862</td>\n      <td>0.332106</td>\n      <td>0.373619</td>\n      <td>0.490408</td>\n      <td>0.551708</td>\n      <td>0.246564</td>\n      <td>0.277384</td>\n      <td>0.364091</td>\n      <td>0.409602</td>\n    </tr>\n    <tr>\n      <th>7</th>\n      <td>201801</td>\n      <td>2018-01-01</td>\n      <td>5316.583333</td>\n      <td>1594.975</td>\n      <td>1.105319</td>\n      <td>0.364321</td>\n      <td>0.409861</td>\n      <td>0.529371</td>\n      <td>0.595542</td>\n      <td>0.388891</td>\n      <td>...</td>\n      <td>0.537314</td>\n      <td>0.604478</td>\n      <td>0.307267</td>\n      <td>0.345676</td>\n      <td>0.446469</td>\n      <td>0.502278</td>\n      <td>0.229231</td>\n      <td>0.257885</td>\n      <td>0.333080</td>\n      <td>0.374714</td>\n    </tr>\n    <tr>\n      <th>8</th>\n      <td>201901</td>\n      <td>2019-01-01</td>\n      <td>5783.916667</td>\n      <td>1735.175</td>\n      <td>1.170044</td>\n      <td>0.403066</td>\n      <td>0.453448</td>\n      <td>0.603365</td>\n      <td>0.678784</td>\n      <td>0.444580</td>\n      <td>...</td>\n      <td>0.615537</td>\n      <td>0.692480</td>\n      <td>0.341787</td>\n      <td>0.384511</td>\n      <td>0.511635</td>\n      <td>0.575589</td>\n      <td>0.252791</td>\n      <td>0.284390</td>\n      <td>0.378413</td>\n      <td>0.425715</td>\n    </tr>\n    <tr>\n      <th>9</th>\n      <td>202001</td>\n      <td>2020-01-01</td>\n      <td>5587.166667</td>\n      <td>1676.150</td>\n      <td>1.125688</td>\n      <td>0.411187</td>\n      <td>0.462585</td>\n      <td>0.646249</td>\n      <td>0.727029</td>\n      <td>0.460959</td>\n      <td>...</td>\n      <td>0.660125</td>\n      <td>0.742642</td>\n      <td>0.350256</td>\n      <td>0.394038</td>\n      <td>0.550485</td>\n      <td>0.619294</td>\n      <td>0.257601</td>\n      <td>0.289801</td>\n      <td>0.404861</td>\n      <td>0.455469</td>\n    </tr>\n  </tbody>\n</table>\n<p>10 rows × 29 columns</p>\n</div>"
     },
     "execution_count": 11,
     "metadata": {},
     "output_type": "execute_result"
    }
   ],
   "source": [
    "# View Affordability Dataframe\n",
    "affordability_df.head(10)"
   ],
   "metadata": {
    "collapsed": false,
    "pycharm": {
     "name": "#%%\n"
    }
   }
  },
  {
   "cell_type": "code",
   "execution_count": 14,
   "outputs": [],
   "source": [
    "# Format the float fields to 3 decimal places\n",
    "affordability_df= affordability_df.round(decimals = 2)"
   ],
   "metadata": {
    "collapsed": false,
    "pycharm": {
     "name": "#%%\n"
    }
   }
  },
  {
   "cell_type": "code",
   "execution_count": 15,
   "outputs": [
    {
     "data": {
      "text/plain": "   Identifier Observation_Date  Median_Monthly_Income  \\\n0      201101       2011-01-01                4121.75   \n1      201201       2012-01-01                4241.25   \n2      201301       2013-01-01                4351.92   \n3      201401       2014-01-01                4416.33   \n4      201501       2015-01-01                4646.00   \n5      201601       2016-01-01                4904.67   \n6      201701       2017-01-01                5073.25   \n7      201801       2018-01-01                5316.58   \n8      201901       2019-01-01                5783.92   \n9      202001       2020-01-01                5587.17   \n\n   Monthly_Affordability_Limit  affordability_rent  \\\n0                      1236.53                1.06   \n1                      1272.38                1.06   \n2                      1305.58                1.06   \n3                      1324.90                1.04   \n4                      1393.80                1.06   \n5                      1471.40                1.09   \n6                      1521.98                1.10   \n7                      1594.98                1.10   \n8                      1735.18                1.17   \n9                      1676.15                1.13   \n\n   affordability_home_15yr_Payment_10_Perc_Down  \\\n0                                          0.41   \n1                                          0.45   \n2                                          0.45   \n3                                          0.42   \n4                                          0.42   \n5                                          0.42   \n6                                          0.39   \n7                                          0.36   \n8                                          0.40   \n9                                          0.41   \n\n   affordability_home_15yr_Payment_20_Perc_Down  \\\n0                                          0.46   \n1                                          0.51   \n2                                          0.50   \n3                                          0.47   \n4                                          0.48   \n5                                          0.47   \n6                                          0.44   \n7                                          0.41   \n8                                          0.45   \n9                                          0.46   \n\n   affordability_home_30yr_Payment_10_Perc_Down  \\\n0                                          0.59   \n1                                          0.68   \n2                                          0.65   \n3                                          0.60   \n4                                          0.63   \n5                                          0.63   \n6                                          0.58   \n7                                          0.53   \n8                                          0.60   \n9                                          0.65   \n\n   affordability_home_30yr_Payment_20_Perc_Down  \\\n0                                          0.67   \n1                                          0.77   \n2                                          0.73   \n3                                          0.68   \n4                                          0.71   \n5                                          0.71   \n6                                          0.65   \n7                                          0.60   \n8                                          0.68   \n9                                          0.73   \n\n   affordability_1br_15yr_Payment_10_Perc_Down  ...  \\\n0                                         0.45  ...   \n1                                         0.49  ...   \n2                                         0.47  ...   \n3                                         0.43  ...   \n4                                         0.42  ...   \n5                                         0.42  ...   \n6                                         0.40  ...   \n7                                         0.39  ...   \n8                                         0.44  ...   \n9                                         0.46  ...   \n\n   affordability_3br_30yr_Payment_10_Perc_Down  \\\n0                                         0.60   \n1                                         0.69   \n2                                         0.66   \n3                                         0.61   \n4                                         0.63   \n5                                         0.64   \n6                                         0.59   \n7                                         0.54   \n8                                         0.62   \n9                                         0.66   \n\n   affordability_3br_30yr_Payment_20_Perc_Down  \\\n0                                         0.67   \n1                                         0.77   \n2                                         0.74   \n3                                         0.69   \n4                                         0.71   \n5                                         0.72   \n6                                         0.67   \n7                                         0.60   \n8                                         0.69   \n9                                         0.74   \n\n   affordability_4br_15yr_Payment_10_Perc_Down  \\\n0                                         0.36   \n1                                         0.39   \n2                                         0.38   \n3                                         0.36   \n4                                         0.36   \n5                                         0.35   \n6                                         0.33   \n7                                         0.31   \n8                                         0.34   \n9                                         0.35   \n\n   affordability_4br_15yr_Payment_20_Perc_Down  \\\n0                                         0.40   \n1                                         0.44   \n2                                         0.43   \n3                                         0.40   \n4                                         0.40   \n5                                         0.40   \n6                                         0.37   \n7                                         0.35   \n8                                         0.38   \n9                                         0.39   \n\n   affordability_4br_30yr_Payment_10_Perc_Down  \\\n0                                         0.51   \n1                                         0.59   \n2                                         0.56   \n3                                         0.51   \n4                                         0.53   \n5                                         0.53   \n6                                         0.49   \n7                                         0.45   \n8                                         0.51   \n9                                         0.55   \n\n   affordability_4br_30yr_Payment_20_Perc_Down  \\\n0                                         0.58   \n1                                         0.66   \n2                                         0.63   \n3                                         0.58   \n4                                         0.59   \n5                                         0.60   \n6                                         0.55   \n7                                         0.50   \n8                                         0.58   \n9                                         0.62   \n\n   affordability_5_plus_br_15yr_Payment_10_Perc_Down  \\\n0                                               0.29   \n1                                               0.31   \n2                                               0.30   \n3                                               0.28   \n4                                               0.27   \n5                                               0.26   \n6                                               0.25   \n7                                               0.23   \n8                                               0.25   \n9                                               0.26   \n\n   affordability_5_plus_br_15yr_Payment_20_Perc_Down  \\\n0                                               0.32   \n1                                               0.35   \n2                                               0.34   \n3                                               0.31   \n4                                               0.30   \n5                                               0.30   \n6                                               0.28   \n7                                               0.26   \n8                                               0.28   \n9                                               0.29   \n\n   affordability_5_plus_br_30yr_Payment_10_Perc_Down  \\\n0                                               0.41   \n1                                               0.47   \n2                                               0.44   \n3                                               0.40   \n4                                               0.40   \n5                                               0.40   \n6                                               0.36   \n7                                               0.33   \n8                                               0.38   \n9                                               0.40   \n\n   affordability_5_plus_br_30yr_Payment_20_Perc_Down  \n0                                               0.46  \n1                                               0.53  \n2                                               0.50  \n3                                               0.45  \n4                                               0.45  \n5                                               0.44  \n6                                               0.41  \n7                                               0.38  \n8                                               0.43  \n9                                               0.46  \n\n[10 rows x 29 columns]",
      "text/html": "<div>\n<style scoped>\n    .dataframe tbody tr th:only-of-type {\n        vertical-align: middle;\n    }\n\n    .dataframe tbody tr th {\n        vertical-align: top;\n    }\n\n    .dataframe thead th {\n        text-align: right;\n    }\n</style>\n<table border=\"1\" class=\"dataframe\">\n  <thead>\n    <tr style=\"text-align: right;\">\n      <th></th>\n      <th>Identifier</th>\n      <th>Observation_Date</th>\n      <th>Median_Monthly_Income</th>\n      <th>Monthly_Affordability_Limit</th>\n      <th>affordability_rent</th>\n      <th>affordability_home_15yr_Payment_10_Perc_Down</th>\n      <th>affordability_home_15yr_Payment_20_Perc_Down</th>\n      <th>affordability_home_30yr_Payment_10_Perc_Down</th>\n      <th>affordability_home_30yr_Payment_20_Perc_Down</th>\n      <th>affordability_1br_15yr_Payment_10_Perc_Down</th>\n      <th>...</th>\n      <th>affordability_3br_30yr_Payment_10_Perc_Down</th>\n      <th>affordability_3br_30yr_Payment_20_Perc_Down</th>\n      <th>affordability_4br_15yr_Payment_10_Perc_Down</th>\n      <th>affordability_4br_15yr_Payment_20_Perc_Down</th>\n      <th>affordability_4br_30yr_Payment_10_Perc_Down</th>\n      <th>affordability_4br_30yr_Payment_20_Perc_Down</th>\n      <th>affordability_5_plus_br_15yr_Payment_10_Perc_Down</th>\n      <th>affordability_5_plus_br_15yr_Payment_20_Perc_Down</th>\n      <th>affordability_5_plus_br_30yr_Payment_10_Perc_Down</th>\n      <th>affordability_5_plus_br_30yr_Payment_20_Perc_Down</th>\n    </tr>\n  </thead>\n  <tbody>\n    <tr>\n      <th>0</th>\n      <td>201101</td>\n      <td>2011-01-01</td>\n      <td>4121.75</td>\n      <td>1236.53</td>\n      <td>1.06</td>\n      <td>0.41</td>\n      <td>0.46</td>\n      <td>0.59</td>\n      <td>0.67</td>\n      <td>0.45</td>\n      <td>...</td>\n      <td>0.60</td>\n      <td>0.67</td>\n      <td>0.36</td>\n      <td>0.40</td>\n      <td>0.51</td>\n      <td>0.58</td>\n      <td>0.29</td>\n      <td>0.32</td>\n      <td>0.41</td>\n      <td>0.46</td>\n    </tr>\n    <tr>\n      <th>1</th>\n      <td>201201</td>\n      <td>2012-01-01</td>\n      <td>4241.25</td>\n      <td>1272.38</td>\n      <td>1.06</td>\n      <td>0.45</td>\n      <td>0.51</td>\n      <td>0.68</td>\n      <td>0.77</td>\n      <td>0.49</td>\n      <td>...</td>\n      <td>0.69</td>\n      <td>0.77</td>\n      <td>0.39</td>\n      <td>0.44</td>\n      <td>0.59</td>\n      <td>0.66</td>\n      <td>0.31</td>\n      <td>0.35</td>\n      <td>0.47</td>\n      <td>0.53</td>\n    </tr>\n    <tr>\n      <th>2</th>\n      <td>201301</td>\n      <td>2013-01-01</td>\n      <td>4351.92</td>\n      <td>1305.58</td>\n      <td>1.06</td>\n      <td>0.45</td>\n      <td>0.50</td>\n      <td>0.65</td>\n      <td>0.73</td>\n      <td>0.47</td>\n      <td>...</td>\n      <td>0.66</td>\n      <td>0.74</td>\n      <td>0.38</td>\n      <td>0.43</td>\n      <td>0.56</td>\n      <td>0.63</td>\n      <td>0.30</td>\n      <td>0.34</td>\n      <td>0.44</td>\n      <td>0.50</td>\n    </tr>\n    <tr>\n      <th>3</th>\n      <td>201401</td>\n      <td>2014-01-01</td>\n      <td>4416.33</td>\n      <td>1324.90</td>\n      <td>1.04</td>\n      <td>0.42</td>\n      <td>0.47</td>\n      <td>0.60</td>\n      <td>0.68</td>\n      <td>0.43</td>\n      <td>...</td>\n      <td>0.61</td>\n      <td>0.69</td>\n      <td>0.36</td>\n      <td>0.40</td>\n      <td>0.51</td>\n      <td>0.58</td>\n      <td>0.28</td>\n      <td>0.31</td>\n      <td>0.40</td>\n      <td>0.45</td>\n    </tr>\n    <tr>\n      <th>4</th>\n      <td>201501</td>\n      <td>2015-01-01</td>\n      <td>4646.00</td>\n      <td>1393.80</td>\n      <td>1.06</td>\n      <td>0.42</td>\n      <td>0.48</td>\n      <td>0.63</td>\n      <td>0.71</td>\n      <td>0.42</td>\n      <td>...</td>\n      <td>0.63</td>\n      <td>0.71</td>\n      <td>0.36</td>\n      <td>0.40</td>\n      <td>0.53</td>\n      <td>0.59</td>\n      <td>0.27</td>\n      <td>0.30</td>\n      <td>0.40</td>\n      <td>0.45</td>\n    </tr>\n    <tr>\n      <th>5</th>\n      <td>201601</td>\n      <td>2016-01-01</td>\n      <td>4904.67</td>\n      <td>1471.40</td>\n      <td>1.09</td>\n      <td>0.42</td>\n      <td>0.47</td>\n      <td>0.63</td>\n      <td>0.71</td>\n      <td>0.42</td>\n      <td>...</td>\n      <td>0.64</td>\n      <td>0.72</td>\n      <td>0.35</td>\n      <td>0.40</td>\n      <td>0.53</td>\n      <td>0.60</td>\n      <td>0.26</td>\n      <td>0.30</td>\n      <td>0.40</td>\n      <td>0.44</td>\n    </tr>\n    <tr>\n      <th>6</th>\n      <td>201701</td>\n      <td>2017-01-01</td>\n      <td>5073.25</td>\n      <td>1521.98</td>\n      <td>1.10</td>\n      <td>0.39</td>\n      <td>0.44</td>\n      <td>0.58</td>\n      <td>0.65</td>\n      <td>0.40</td>\n      <td>...</td>\n      <td>0.59</td>\n      <td>0.67</td>\n      <td>0.33</td>\n      <td>0.37</td>\n      <td>0.49</td>\n      <td>0.55</td>\n      <td>0.25</td>\n      <td>0.28</td>\n      <td>0.36</td>\n      <td>0.41</td>\n    </tr>\n    <tr>\n      <th>7</th>\n      <td>201801</td>\n      <td>2018-01-01</td>\n      <td>5316.58</td>\n      <td>1594.98</td>\n      <td>1.10</td>\n      <td>0.36</td>\n      <td>0.41</td>\n      <td>0.53</td>\n      <td>0.60</td>\n      <td>0.39</td>\n      <td>...</td>\n      <td>0.54</td>\n      <td>0.60</td>\n      <td>0.31</td>\n      <td>0.35</td>\n      <td>0.45</td>\n      <td>0.50</td>\n      <td>0.23</td>\n      <td>0.26</td>\n      <td>0.33</td>\n      <td>0.38</td>\n    </tr>\n    <tr>\n      <th>8</th>\n      <td>201901</td>\n      <td>2019-01-01</td>\n      <td>5783.92</td>\n      <td>1735.18</td>\n      <td>1.17</td>\n      <td>0.40</td>\n      <td>0.45</td>\n      <td>0.60</td>\n      <td>0.68</td>\n      <td>0.44</td>\n      <td>...</td>\n      <td>0.62</td>\n      <td>0.69</td>\n      <td>0.34</td>\n      <td>0.38</td>\n      <td>0.51</td>\n      <td>0.58</td>\n      <td>0.25</td>\n      <td>0.28</td>\n      <td>0.38</td>\n      <td>0.43</td>\n    </tr>\n    <tr>\n      <th>9</th>\n      <td>202001</td>\n      <td>2020-01-01</td>\n      <td>5587.17</td>\n      <td>1676.15</td>\n      <td>1.13</td>\n      <td>0.41</td>\n      <td>0.46</td>\n      <td>0.65</td>\n      <td>0.73</td>\n      <td>0.46</td>\n      <td>...</td>\n      <td>0.66</td>\n      <td>0.74</td>\n      <td>0.35</td>\n      <td>0.39</td>\n      <td>0.55</td>\n      <td>0.62</td>\n      <td>0.26</td>\n      <td>0.29</td>\n      <td>0.40</td>\n      <td>0.46</td>\n    </tr>\n  </tbody>\n</table>\n<p>10 rows × 29 columns</p>\n</div>"
     },
     "execution_count": 15,
     "metadata": {},
     "output_type": "execute_result"
    }
   ],
   "source": [
    "# View Resulting Dataframe\n",
    "affordability_df.head(10)"
   ],
   "metadata": {
    "collapsed": false,
    "pycharm": {
     "name": "#%%\n"
    }
   }
  },
  {
   "cell_type": "code",
   "execution_count": 19,
   "outputs": [],
   "source": [
    "# Save affordability_df to csv\n",
    "affordability_df.to_csv('Datasets/CSV/affordability_scores.csv', index=False)"
   ],
   "metadata": {
    "collapsed": false,
    "pycharm": {
     "name": "#%%\n"
    }
   }
  },
  {
   "cell_type": "code",
   "execution_count": 20,
   "outputs": [],
   "source": [
    "# Save affordability_df to Excel file\n",
    "affordability_df.to_excel(\"Datasets/affordability_scores.xlsx\", sheet_name='Data', index=False)"
   ],
   "metadata": {
    "collapsed": false,
    "pycharm": {
     "name": "#%%\n"
    }
   }
  }
 ],
 "metadata": {
  "kernelspec": {
   "display_name": "Python 3",
   "language": "python",
   "name": "python3"
  },
  "language_info": {
   "codemirror_mode": {
    "name": "ipython",
    "version": 2
   },
   "file_extension": ".py",
   "mimetype": "text/x-python",
   "name": "python",
   "nbconvert_exporter": "python",
   "pygments_lexer": "ipython2",
   "version": "2.7.6"
  }
 },
 "nbformat": 4,
 "nbformat_minor": 0
}