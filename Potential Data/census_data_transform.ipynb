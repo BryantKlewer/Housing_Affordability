{
 "cells": [
  {
   "cell_type": "code",
   "execution_count": 29,
   "metadata": {},
   "outputs": [
    {
     "ename": "NameError",
     "evalue": "name 'ranges' is not defined",
     "output_type": "error",
     "traceback": [
      "\u001b[1;31m---------------------------------------------------------------------------\u001b[0m",
      "\u001b[1;31mNameError\u001b[0m                                 Traceback (most recent call last)",
      "\u001b[1;32mc:\\Users\\mattw\\Documents\\Bootcamp\\Group Project\\census_data_transform.ipynb Cell 1\u001b[0m in \u001b[0;36m<cell line: 8>\u001b[1;34m()\u001b[0m\n\u001b[0;32m      <a href='vscode-notebook-cell:/c%3A/Users/mattw/Documents/Bootcamp/Group%20Project/census_data_transform.ipynb#W0sZmlsZQ%3D%3D?line=7'>8</a>\u001b[0m \u001b[39mfor\u001b[39;00m col \u001b[39min\u001b[39;00m df\u001b[39m.\u001b[39mcolumns\u001b[39m.\u001b[39mlevels[\u001b[39m0\u001b[39m]:\n\u001b[0;32m      <a href='vscode-notebook-cell:/c%3A/Users/mattw/Documents/Bootcamp/Group%20Project/census_data_transform.ipynb#W0sZmlsZQ%3D%3D?line=8'>9</a>\u001b[0m     \u001b[39mif\u001b[39;00m col \u001b[39m!=\u001b[39m \u001b[39m'\u001b[39m\u001b[39mUnnamed: 0_level_0\u001b[39m\u001b[39m'\u001b[39m:\n\u001b[1;32m---> <a href='vscode-notebook-cell:/c%3A/Users/mattw/Documents/Bootcamp/Group%20Project/census_data_transform.ipynb#W0sZmlsZQ%3D%3D?line=9'>10</a>\u001b[0m         \u001b[39mfor\u001b[39;00m k,v \u001b[39min\u001b[39;00m ranges\u001b[39m.\u001b[39mitems():\n\u001b[0;32m     <a href='vscode-notebook-cell:/c%3A/Users/mattw/Documents/Bootcamp/Group%20Project/census_data_transform.ipynb#W0sZmlsZQ%3D%3D?line=10'>11</a>\u001b[0m             \u001b[39mfor\u001b[39;00m r \u001b[39min\u001b[39;00m v:\n\u001b[0;32m     <a href='vscode-notebook-cell:/c%3A/Users/mattw/Documents/Bootcamp/Group%20Project/census_data_transform.ipynb#W0sZmlsZQ%3D%3D?line=11'>12</a>\u001b[0m                 df\u001b[39m.\u001b[39mloc[r, (col, \u001b[39m'\u001b[39m\u001b[39mGroup\u001b[39m\u001b[39m'\u001b[39m)] \u001b[39m=\u001b[39m k\n",
      "\u001b[1;31mNameError\u001b[0m: name 'ranges' is not defined"
     ]
    }
   ],
   "source": [
    "import pandas as pd\n",
    "\n",
    "csv = r'C:\\Users\\mattw\\Documents\\Bootcamp\\Group Project\\Select_Housing_Characteristics\\ACSDP1Y2015.DP04-2022-10-09T022747.csv'\n",
    "df = pd.read_csv(filepath_or_buffer=csv, header=[0,1])   \n",
    "\n",
    "df.drop([0,6,17,29,41,49,55,63,69,80,85,90,101,105,123,140,151],axis=0,inplace=True)\n",
    "\n",
    "new_df = df.set_index(keys=['Unnamed: 0_level_0'])\n",
    "\n",
    "stacked_df = new_df.stack(0)\n",
    "stacked_df.reset_index()\n",
    "# stacked_df.to_csv(path_or_buf=r'C:\\Users\\mattw\\Documents\\Bootcamp\\Group Project\\Select_Housing_Characteristics\\Unpivoted\\select_housing_characteristics_2015.csv', index_label=['Metric','City'],header=['Estimate','Estimate Margin of Error','Percent','Percent Margin of Error'])\n",
    "stacked_df"
   ]
  },
  {
   "cell_type": "code",
   "execution_count": 23,
   "metadata": {},
   "outputs": [],
   "source": [
    "import pandas as pd\n",
    "\n",
    "csv_in = r'C:\\Users\\mattw\\Documents\\Bootcamp\\Group Project\\Select_Housing_Characteristics\\ACSDP5Y2020.DP04-2022-10-09T022756.csv'\n",
    "csv_out = r'C:\\Users\\mattw\\Documents\\Bootcamp\\Group Project\\Select_Housing_Characteristics\\Unpivoted\\select_housing_characteristics_2020.csv'\n",
    "df = pd.read_csv(filepath_or_buffer=csv_in, header=[0,1])\n",
    "\n",
    "#df.columns = pd.MultiIndex.from_product([df.columns, (None,'Group')])\n",
    "#df['','Group'] = 'placeholder'\n",
    "#df\n",
    "\n",
    "# ranges = {\n",
    "#     'housing_occupancy' : range(0,6),\n",
    "#     'units_in_structure' : range(6,17),\n",
    "#     'year_structure_built' : range(17,28),\n",
    "#     'rooms':range(28,40),\n",
    "#     'bedrooms':range(40,48),\n",
    "#     'housing_tenure' : range(48,54),\n",
    "#     'year_householder_moved_into_unit' : range(54,62),\n",
    "#     'vehicles_available' : range(62,68),\n",
    "#     'house_heating_fuel' : range(68,79),\n",
    "#     'selected_characteristics' : range(79,84),\n",
    "#     'occupants_per_room' : range(84,89),\n",
    "#     'value' : range(89,100),\n",
    "#     'mortgage_status' : range(100,104),\n",
    "#     'selected_monthly_owner_costs_(smoc)' : range(104,121),\n",
    "#     'selected_monthly_owner_costs_as_a_percentage_of_household_income_(smocapi)' : range(121,138),\n",
    "#     'gross_rent' : range(138,149),\n",
    "#     'gross_rent_as_a_percentage_of_household_income_(grapi)' : range(149,158),\n",
    "# }\n",
    "\n",
    "ranges = {\n",
    "    'housing_occupancy' : range(0,6),\n",
    "    'units_in_structure' : range(6,17),\n",
    "    'year_structure_built' : range(17,29),\n",
    "    'rooms':range(29,41),\n",
    "    'bedrooms':range(41,49),\n",
    "    'housing_tenure' : range(49,55),\n",
    "    'year_householder_moved_into_unit' : range(55,63),\n",
    "    'vehicles_available' : range(63,69),\n",
    "    'house_heating_fuel' : range(69,80),\n",
    "    'selected_characteristics' : range(80,85),\n",
    "    'occupants_per_room' : range(85,90),\n",
    "    'value' : range(90,101),\n",
    "    'mortgage_status' : range(101,105),\n",
    "    'selected_monthly_owner_costs_(smoc)' : range(105,123),\n",
    "    'selected_monthly_owner_costs_as_a_percentage_of_household_income_(smocapi)' : range(123,140),\n",
    "    'gross_rent' : range(140,151),\n",
    "    'gross_rent_as_a_percentage_of_household_income_(grapi)' : range(151,160),\n",
    "}\n",
    "\n",
    "# for k,v in ranges.items():\n",
    "#     for r in v:\n",
    "#         df.loc[r, ('Group', 'Group')] = k\n",
    "#         # df.loc[r, 'Group'] = k\n",
    "\n",
    "for col in df.columns.levels[0]:\n",
    "    if col != 'Unnamed: 0_level_0':\n",
    "        for k,v in ranges.items():\n",
    "            for r in v:\n",
    "                df.loc[r, (col, 'Group')] = k\n",
    "                # df.loc[r, 'Group'] = k\n",
    "\n",
    "# df.drop([0,6,17,28,40,48,54,62,68,79,84,89,100,104,121,138,149],axis=0,inplace=True)\n",
    "\n",
    "df.drop([0,6,17,29,41,49,55,63,69,80,85,90,101,105,123,140,151],axis=0,inplace=True)\n",
    "\n",
    "# df\n",
    "\n",
    "new_df = df.set_index(keys=['Unnamed: 0_level_0'])\n",
    "stacked_df = new_df.stack(0)\n",
    "\n",
    "stacked_df.reset_index()\n",
    "\n",
    "\n",
    "\n",
    "stacked_df.to_csv(path_or_buf=csv_out,index_label=['Metric','City'],header=['Estimate','Estimate Margin of Error','Group','Percent','Percent Margin of Error'])"
   ]
  },
  {
   "cell_type": "code",
   "execution_count": null,
   "metadata": {},
   "outputs": [],
   "source": []
  }
 ],
 "metadata": {
  "kernelspec": {
   "display_name": "Python 3.9.12 ('base')",
   "language": "python",
   "name": "python3"
  },
  "language_info": {
   "codemirror_mode": {
    "name": "ipython",
    "version": 3
   },
   "file_extension": ".py",
   "mimetype": "text/x-python",
   "name": "python",
   "nbconvert_exporter": "python",
   "pygments_lexer": "ipython3",
   "version": "3.9.12"
  },
  "orig_nbformat": 4,
  "vscode": {
   "interpreter": {
    "hash": "f085cf3322495da9e701eee079397ba2359568c5b9a718e5a986876ed0b64581"
   }
  }
 },
 "nbformat": 4,
 "nbformat_minor": 2
}
