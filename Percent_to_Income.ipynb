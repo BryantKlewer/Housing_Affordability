{
 "cells": [
  {
   "cell_type": "code",
   "execution_count": 1,
   "metadata": {
    "collapsed": true,
    "pycharm": {
     "name": "#%%\n"
    }
   },
   "outputs": [],
   "source": [
    "# Import dependencies\n",
    "import pandas as pd"
   ]
  },
  {
   "cell_type": "code",
   "execution_count": 2,
   "outputs": [],
   "source": [
    "# Set file location\n",
    "master_data = \"Datasets/CSV/Master_Data_Set.csv\""
   ],
   "metadata": {
    "collapsed": false,
    "pycharm": {
     "name": "#%%\n"
    }
   }
  },
  {
   "cell_type": "code",
   "execution_count": 3,
   "outputs": [
    {
     "data": {
      "text/plain": "   Identifier  City_Rank_by_Population(2021)     State State_Abbreviation  \\\n0      201101                              1  New York                 NY   \n1      201201                              1  New York                 NY   \n2      201301                              1  New York                 NY   \n3      201401                              1  New York                 NY   \n4      201501                              1  New York                 NY   \n\n       City Observation_Date  Single_Family_Median_Typical_Home_Value  \\\n0  New York         1/1/2011                                 460824.0   \n1  New York         1/1/2012                                 453166.5   \n2  New York         1/1/2013                                 467125.5   \n3  New York         1/1/2014                                 499898.0   \n4  New York         1/1/2015                                 526189.0   \n\n   One_Bedroom_Median_Typical_Home_Value  \\\n0                               419555.5   \n1                               421581.5   \n2                               445182.5   \n3                               487199.5   \n4                               536285.0   \n\n   Two_Bedroom_Median_Typical_Home_Value  \\\n0                               549450.5   \n1                               549293.0   \n2                               579800.5   \n3                               634870.5   \n4                               689511.5   \n\n   Three_Bedroom_Median_Typical_Home_Value  ...  \\\n0                                 455413.0  ...   \n1                                 448447.0  ...   \n2                                 461446.5  ...   \n3                                 493995.0  ...   \n4                                 522588.5  ...   \n\n   affordability_3br_30yr_Payment_10_Perc_Down  \\\n0                                         0.60   \n1                                         0.69   \n2                                         0.66   \n3                                         0.61   \n4                                         0.63   \n\n   affordability_3br_30yr_Payment_20_Perc_Down  \\\n0                                         0.67   \n1                                         0.77   \n2                                         0.74   \n3                                         0.69   \n4                                         0.71   \n\n   affordability_4br_15yr_Payment_10_Perc_Down  \\\n0                                         0.36   \n1                                         0.39   \n2                                         0.38   \n3                                         0.36   \n4                                         0.36   \n\n   affordability_4br_15yr_Payment_20_Perc_Down  \\\n0                                         0.40   \n1                                         0.44   \n2                                         0.43   \n3                                         0.40   \n4                                         0.40   \n\n   affordability_4br_30yr_Payment_10_Perc_Down  \\\n0                                         0.51   \n1                                         0.59   \n2                                         0.56   \n3                                         0.51   \n4                                         0.53   \n\n   affordability_4br_30yr_Payment_20_Perc_Down  \\\n0                                         0.58   \n1                                         0.66   \n2                                         0.63   \n3                                         0.58   \n4                                         0.59   \n\n   affordability_5_plus_br_15yr_Payment_10_Perc_Down  \\\n0                                               0.29   \n1                                               0.31   \n2                                               0.30   \n3                                               0.28   \n4                                               0.27   \n\n   affordability_5_plus_br_15yr_Payment_20_Perc_Down  \\\n0                                               0.32   \n1                                               0.35   \n2                                               0.34   \n3                                               0.31   \n4                                               0.30   \n\n   affordability_5_plus_br_30yr_Payment_10_Perc_Down  \\\n0                                               0.41   \n1                                               0.47   \n2                                               0.44   \n3                                               0.40   \n4                                               0.40   \n\n   affordability_5_plus_br_30yr_Payment_20_Perc_Down  \n0                                               0.46  \n1                                               0.53  \n2                                               0.50  \n3                                               0.45  \n4                                               0.45  \n\n[5 rows x 70 columns]",
      "text/html": "<div>\n<style scoped>\n    .dataframe tbody tr th:only-of-type {\n        vertical-align: middle;\n    }\n\n    .dataframe tbody tr th {\n        vertical-align: top;\n    }\n\n    .dataframe thead th {\n        text-align: right;\n    }\n</style>\n<table border=\"1\" class=\"dataframe\">\n  <thead>\n    <tr style=\"text-align: right;\">\n      <th></th>\n      <th>Identifier</th>\n      <th>City_Rank_by_Population(2021)</th>\n      <th>State</th>\n      <th>State_Abbreviation</th>\n      <th>City</th>\n      <th>Observation_Date</th>\n      <th>Single_Family_Median_Typical_Home_Value</th>\n      <th>One_Bedroom_Median_Typical_Home_Value</th>\n      <th>Two_Bedroom_Median_Typical_Home_Value</th>\n      <th>Three_Bedroom_Median_Typical_Home_Value</th>\n      <th>...</th>\n      <th>affordability_3br_30yr_Payment_10_Perc_Down</th>\n      <th>affordability_3br_30yr_Payment_20_Perc_Down</th>\n      <th>affordability_4br_15yr_Payment_10_Perc_Down</th>\n      <th>affordability_4br_15yr_Payment_20_Perc_Down</th>\n      <th>affordability_4br_30yr_Payment_10_Perc_Down</th>\n      <th>affordability_4br_30yr_Payment_20_Perc_Down</th>\n      <th>affordability_5_plus_br_15yr_Payment_10_Perc_Down</th>\n      <th>affordability_5_plus_br_15yr_Payment_20_Perc_Down</th>\n      <th>affordability_5_plus_br_30yr_Payment_10_Perc_Down</th>\n      <th>affordability_5_plus_br_30yr_Payment_20_Perc_Down</th>\n    </tr>\n  </thead>\n  <tbody>\n    <tr>\n      <th>0</th>\n      <td>201101</td>\n      <td>1</td>\n      <td>New York</td>\n      <td>NY</td>\n      <td>New York</td>\n      <td>1/1/2011</td>\n      <td>460824.0</td>\n      <td>419555.5</td>\n      <td>549450.5</td>\n      <td>455413.0</td>\n      <td>...</td>\n      <td>0.60</td>\n      <td>0.67</td>\n      <td>0.36</td>\n      <td>0.40</td>\n      <td>0.51</td>\n      <td>0.58</td>\n      <td>0.29</td>\n      <td>0.32</td>\n      <td>0.41</td>\n      <td>0.46</td>\n    </tr>\n    <tr>\n      <th>1</th>\n      <td>201201</td>\n      <td>1</td>\n      <td>New York</td>\n      <td>NY</td>\n      <td>New York</td>\n      <td>1/1/2012</td>\n      <td>453166.5</td>\n      <td>421581.5</td>\n      <td>549293.0</td>\n      <td>448447.0</td>\n      <td>...</td>\n      <td>0.69</td>\n      <td>0.77</td>\n      <td>0.39</td>\n      <td>0.44</td>\n      <td>0.59</td>\n      <td>0.66</td>\n      <td>0.31</td>\n      <td>0.35</td>\n      <td>0.47</td>\n      <td>0.53</td>\n    </tr>\n    <tr>\n      <th>2</th>\n      <td>201301</td>\n      <td>1</td>\n      <td>New York</td>\n      <td>NY</td>\n      <td>New York</td>\n      <td>1/1/2013</td>\n      <td>467125.5</td>\n      <td>445182.5</td>\n      <td>579800.5</td>\n      <td>461446.5</td>\n      <td>...</td>\n      <td>0.66</td>\n      <td>0.74</td>\n      <td>0.38</td>\n      <td>0.43</td>\n      <td>0.56</td>\n      <td>0.63</td>\n      <td>0.30</td>\n      <td>0.34</td>\n      <td>0.44</td>\n      <td>0.50</td>\n    </tr>\n    <tr>\n      <th>3</th>\n      <td>201401</td>\n      <td>1</td>\n      <td>New York</td>\n      <td>NY</td>\n      <td>New York</td>\n      <td>1/1/2014</td>\n      <td>499898.0</td>\n      <td>487199.5</td>\n      <td>634870.5</td>\n      <td>493995.0</td>\n      <td>...</td>\n      <td>0.61</td>\n      <td>0.69</td>\n      <td>0.36</td>\n      <td>0.40</td>\n      <td>0.51</td>\n      <td>0.58</td>\n      <td>0.28</td>\n      <td>0.31</td>\n      <td>0.40</td>\n      <td>0.45</td>\n    </tr>\n    <tr>\n      <th>4</th>\n      <td>201501</td>\n      <td>1</td>\n      <td>New York</td>\n      <td>NY</td>\n      <td>New York</td>\n      <td>1/1/2015</td>\n      <td>526189.0</td>\n      <td>536285.0</td>\n      <td>689511.5</td>\n      <td>522588.5</td>\n      <td>...</td>\n      <td>0.63</td>\n      <td>0.71</td>\n      <td>0.36</td>\n      <td>0.40</td>\n      <td>0.53</td>\n      <td>0.59</td>\n      <td>0.27</td>\n      <td>0.30</td>\n      <td>0.40</td>\n      <td>0.45</td>\n    </tr>\n  </tbody>\n</table>\n<p>5 rows × 70 columns</p>\n</div>"
     },
     "execution_count": 3,
     "metadata": {},
     "output_type": "execute_result"
    }
   ],
   "source": [
    "# Read in csv file to a dataframe\n",
    "df = pd.read_csv(master_data)\n",
    "df.head()"
   ],
   "metadata": {
    "collapsed": false,
    "pycharm": {
     "name": "#%%\n"
    }
   }
  },
  {
   "cell_type": "code",
   "execution_count": 4,
   "outputs": [
    {
     "data": {
      "text/plain": "Identifier                                             int64\nCity_Rank_by_Population(2021)                          int64\nState                                                 object\nState_Abbreviation                                    object\nCity                                                  object\n                                                      ...   \naffordability_4br_30yr_Payment_20_Perc_Down          float64\naffordability_5_plus_br_15yr_Payment_10_Perc_Down    float64\naffordability_5_plus_br_15yr_Payment_20_Perc_Down    float64\naffordability_5_plus_br_30yr_Payment_10_Perc_Down    float64\naffordability_5_plus_br_30yr_Payment_20_Perc_Down    float64\nLength: 70, dtype: object"
     },
     "execution_count": 4,
     "metadata": {},
     "output_type": "execute_result"
    }
   ],
   "source": [
    "# Check the data types\n",
    "df.dtypes"
   ],
   "metadata": {
    "collapsed": false,
    "pycharm": {
     "name": "#%%\n"
    }
   }
  },
  {
   "cell_type": "code",
   "execution_count": 5,
   "outputs": [],
   "source": [
    "# Convert \"Observation_Date\" to a date\n",
    "df['Observation_Date'] = pd.to_datetime(df['Observation_Date'], format='%m/%d/%Y')"
   ],
   "metadata": {
    "collapsed": false,
    "pycharm": {
     "name": "#%%\n"
    }
   }
  },
  {
   "cell_type": "code",
   "execution_count": 6,
   "outputs": [
    {
     "data": {
      "text/plain": "Identifier                                             int64\nCity_Rank_by_Population(2021)                          int64\nState                                                 object\nState_Abbreviation                                    object\nCity                                                  object\n                                                      ...   \naffordability_4br_30yr_Payment_20_Perc_Down          float64\naffordability_5_plus_br_15yr_Payment_10_Perc_Down    float64\naffordability_5_plus_br_15yr_Payment_20_Perc_Down    float64\naffordability_5_plus_br_30yr_Payment_10_Perc_Down    float64\naffordability_5_plus_br_30yr_Payment_20_Perc_Down    float64\nLength: 70, dtype: object"
     },
     "execution_count": 6,
     "metadata": {},
     "output_type": "execute_result"
    }
   ],
   "source": [
    "# Check that data types are now correct\n",
    "df.dtypes"
   ],
   "metadata": {
    "collapsed": false,
    "pycharm": {
     "name": "#%%\n"
    }
   }
  },
  {
   "cell_type": "code",
   "execution_count": 7,
   "outputs": [],
   "source": [
    "# Divide the Median Household Income by 12 to get a median monthly income\n",
    "df['Median_Monthly_Income'] = df['Estimated_Median_Household_Income']/12"
   ],
   "metadata": {
    "collapsed": false,
    "pycharm": {
     "name": "#%%\n"
    }
   }
  },
  {
   "cell_type": "code",
   "execution_count": 8,
   "outputs": [],
   "source": [
    "# Create affordability rates for all home types and loan periods. This is the Monthly_Affordability_Limit/monthly payment\n",
    "# Rental Rate\n",
    "df['percent_to_income_rent'] = df['Median_Rent']/df['Median_Monthly_Income']\n",
    "# Single Family Home Affordability Rates\n",
    "df['percent_to_income_home_15yr_Payment_10_Perc_Down'] = df['home_15yr_Payment_10_Perc_Down']/df['Median_Monthly_Income']\n",
    "df['percent_to_income_home_15yr_Payment_20_Perc_Down'] = df['home_15yr_Payment_20_Perc_Down']/df['Median_Monthly_Income']\n",
    "df['percent_to_income_home_30yr_Payment_10_Perc_Down'] = df['home_30yr_Payment_10_Perc_Down']/df['Median_Monthly_Income']\n",
    "df['percent_to_income_home_30yr_Payment_20_Perc_Down']  = df['home_30yr_Payment_20_Perc_Down']/df['Median_Monthly_Income']\n",
    "# 1 Bedroom Home Affordability Rates\n",
    "df['percent_to_income_1br_15yr_Payment_10_Perc_Down'] = df['1br_15yr_Payment_10_Perc_Down']/df['Median_Monthly_Income']\n",
    "df['percent_to_income_1br_15yr_Payment_20_Perc_Down'] = df['1br_15yr_Payment_20_Perc_Down']/df['Median_Monthly_Income']\n",
    "df['percent_to_income_1br_30yr_Payment_10_Perc_Down'] = df['1br_30yr_Payment_10_Perc_Down']/df['Median_Monthly_Income']\n",
    "df['percent_to_income_1br_30yr_Payment_20_Perc_Down']  = df['1br_30yr_Payment_20_Perc_Down']/df['Median_Monthly_Income']\n",
    "# 2 Bedroom Home Affordability Rates\n",
    "df['percent_to_income_2br_15yr_Payment_10_Perc_Down'] = df['2br_15yr_Payment_10_Perc_Down']/df['Median_Monthly_Income']\n",
    "df['percent_to_income_2br_15yr_Payment_20_Perc_Down'] = df['2br_15yr_Payment_20_Perc_Down']/df['Median_Monthly_Income']\n",
    "df['percent_to_income_2br_30yr_Payment_10_Perc_Down'] = df['2br_30yr_Payment_10_Perc_Down']/df['Median_Monthly_Income']\n",
    "df['percent_to_income_2br_30yr_Payment_20_Perc_Down']  = df['2br_30yr_Payment_20_Perc_Down']/df['Median_Monthly_Income']\n",
    "# 3 Bedroom Home Affordability Rates\n",
    "df['percent_to_income_3br_15yr_Payment_10_Perc_Down'] = df['3br_15yr_Payment_10_Perc_Down']/df['Median_Monthly_Income']\n",
    "df['percent_to_income_3br_15yr_Payment_20_Perc_Down'] = df['3br_15yr_Payment_20_Perc_Down']/df['Median_Monthly_Income']\n",
    "df['percent_to_income_3br_30yr_Payment_10_Perc_Down'] = df['3br_30yr_Payment_10_Perc_Down']/df['Median_Monthly_Income']\n",
    "df['percent_to_income_3br_30yr_Payment_20_Perc_Down']  = df['3br_30yr_Payment_20_Perc_Down']/df['Median_Monthly_Income']\n",
    "# 4 Bedroom Home Affordability Rates\n",
    "df['percent_to_income_4br_15yr_Payment_10_Perc_Down'] = df['4br_15yr_Payment_10_Perc_Down']/df['Median_Monthly_Income']\n",
    "df['percent_to_income_4br_15yr_Payment_20_Perc_Down'] = df['4br_15yr_Payment_20_Perc_Down']/df['Median_Monthly_Income']\n",
    "df['percent_to_income_4br_30yr_Payment_10_Perc_Down'] = df['4br_30yr_Payment_10_Perc_Down']/df['Median_Monthly_Income']\n",
    "df['percent_to_income_4br_30yr_Payment_20_Perc_Down']  = df['4br_30yr_Payment_20_Perc_Down']/df['Median_Monthly_Income']\n",
    "# 5 Bedroom Home Affordability Rates\n",
    "df['percent_to_income_5_plus_br_15yr_Payment_10_Perc_Down'] = df['5_plus_br_15yr_Payment_10_Perc_Down']/df['Median_Monthly_Income']\n",
    "df['percent_to_income_5_plus_br_15yr_Payment_20_Perc_Down'] = df['5_plus_br_15yr_Payment_20_Perc_Down']/df['Median_Monthly_Income']\n",
    "df['percent_to_income_5_plus_br_30yr_Payment_10_Perc_Down'] = df['5_plus_br_30yr_Payment_10_Perc_Down']/df['Median_Monthly_Income']\n",
    "df['percent_to_income_5_plus_br_30yr_Payment_20_Perc_Down']  = df['5_plus_br_30yr_Payment_20_Perc_Down']/df['Median_Monthly_Income']"
   ],
   "metadata": {
    "collapsed": false,
    "pycharm": {
     "name": "#%%\n"
    }
   }
  },
  {
   "cell_type": "code",
   "execution_count": 9,
   "outputs": [],
   "source": [
    "# Create Affordability Dataframe\n",
    "percent_to_income_df = df[['Identifier', 'Observation_Date', 'Median_Monthly_Income', 'percent_to_income_rent', 'percent_to_income_home_15yr_Payment_10_Perc_Down', 'percent_to_income_home_15yr_Payment_20_Perc_Down', 'percent_to_income_home_30yr_Payment_10_Perc_Down', 'percent_to_income_home_30yr_Payment_20_Perc_Down', 'percent_to_income_1br_15yr_Payment_10_Perc_Down', 'percent_to_income_1br_15yr_Payment_20_Perc_Down', 'percent_to_income_1br_30yr_Payment_10_Perc_Down', 'percent_to_income_1br_30yr_Payment_20_Perc_Down', 'percent_to_income_2br_15yr_Payment_10_Perc_Down', 'percent_to_income_2br_15yr_Payment_20_Perc_Down', 'percent_to_income_2br_30yr_Payment_10_Perc_Down', 'percent_to_income_2br_30yr_Payment_20_Perc_Down','percent_to_income_3br_15yr_Payment_10_Perc_Down', 'percent_to_income_3br_15yr_Payment_20_Perc_Down', 'percent_to_income_3br_30yr_Payment_10_Perc_Down', 'percent_to_income_3br_30yr_Payment_20_Perc_Down', 'percent_to_income_4br_15yr_Payment_10_Perc_Down', 'percent_to_income_4br_15yr_Payment_20_Perc_Down', 'percent_to_income_4br_30yr_Payment_10_Perc_Down', 'percent_to_income_4br_30yr_Payment_20_Perc_Down', 'percent_to_income_5_plus_br_15yr_Payment_10_Perc_Down', 'percent_to_income_5_plus_br_15yr_Payment_20_Perc_Down', 'percent_to_income_5_plus_br_30yr_Payment_10_Perc_Down', 'percent_to_income_5_plus_br_30yr_Payment_20_Perc_Down']]"
   ],
   "metadata": {
    "collapsed": false,
    "pycharm": {
     "name": "#%%\n"
    }
   }
  },
  {
   "cell_type": "code",
   "execution_count": 10,
   "outputs": [
    {
     "data": {
      "text/plain": "   Identifier Observation_Date  Median_Monthly_Income  percent_to_income_rent  \\\n0      201101       2011-01-01            4121.750000                0.283375   \n1      201201       2012-01-01            4241.250000                0.281992   \n2      201301       2013-01-01            4351.916667                0.282175   \n3      201401       2014-01-01            4416.333333                0.288927   \n4      201501       2015-01-01            4646.000000                0.283470   \n5      201601       2016-01-01            4904.666667                0.275452   \n6      201701       2017-01-01            5073.250000                0.271818   \n7      201801       2018-01-01            5316.583333                0.271415   \n8      201901       2019-01-01            5783.916667                0.256401   \n9      202001       2020-01-01            5587.166667                0.266504   \n\n   percent_to_income_home_15yr_Payment_10_Perc_Down  \\\n0                                          0.728261   \n1                                          0.660850   \n2                                          0.672253   \n3                                          0.717817   \n4                                          0.708336   \n5                                          0.711861   \n6                                          0.761518   \n7                                          0.823450   \n8                                          0.744295   \n9                                          0.729595   \n\n   percent_to_income_home_15yr_Payment_20_Perc_Down  \\\n0                                          0.647344   \n1                                          0.587421   \n2                                          0.597557   \n3                                          0.638059   \n4                                          0.629632   \n5                                          0.632765   \n6                                          0.676905   \n7                                          0.731955   \n8                                          0.661597   \n9                                          0.648529   \n\n   percent_to_income_home_30yr_Payment_10_Perc_Down  \\\n0                                          0.506855   \n1                                          0.440448   \n2                                          0.460089   \n3                                          0.496398   \n4                                          0.477861   \n5                                          0.473863   \n6                                          0.515705   \n7                                          0.566710   \n8                                          0.497212   \n9                                          0.464217   \n\n   percent_to_income_home_30yr_Payment_20_Perc_Down  \\\n0                                          0.450539   \n1                                          0.391510   \n2                                          0.408969   \n3                                          0.441242   \n4                                          0.424763   \n5                                          0.421211   \n6                                          0.458404   \n7                                          0.503743   \n8                                          0.441967   \n9                                          0.412638   \n\n   percent_to_income_1br_15yr_Payment_10_Perc_Down  \\\n0                                         0.663044   \n1                                         0.614788   \n2                                         0.640674   \n3                                         0.699583   \n4                                         0.721926   \n5                                         0.717906   \n6                                         0.745674   \n7                                         0.771424   \n8                                         0.674794   \n9                                         0.650816   \n\n   percent_to_income_1br_15yr_Payment_20_Perc_Down  ...  \\\n0                                         0.589371  ...   \n1                                         0.546478  ...   \n2                                         0.569487  ...   \n3                                         0.621851  ...   \n4                                         0.641711  ...   \n5                                         0.638139  ...   \n6                                         0.662822  ...   \n7                                         0.685709  ...   \n8                                         0.599817  ...   \n9                                         0.578504  ...   \n\n   percent_to_income_3br_30yr_Payment_10_Perc_Down  \\\n0                                         0.500904   \n1                                         0.435860   \n2                                         0.454496   \n3                                         0.490536   \n4                                         0.474589   \n5                                         0.466823   \n6                                         0.506860   \n7                                         0.558332   \n8                                         0.487379   \n9                                         0.454459   \n\n   percent_to_income_3br_30yr_Payment_20_Perc_Down  \\\n0                                         0.445248   \n1                                         0.387431   \n2                                         0.403997   \n3                                         0.436031   \n4                                         0.421858   \n5                                         0.414954   \n6                                         0.450544   \n7                                         0.496296   \n8                                         0.433225   \n9                                         0.403963   \n\n   percent_to_income_4br_15yr_Payment_10_Perc_Down  \\\n0                                         0.841667   \n1                                         0.767396   \n2                                         0.781607   \n3                                         0.845271   \n4                                         0.846227   \n5                                         0.847083   \n6                                         0.903326   \n7                                         0.976349   \n8                                         0.877739   \n9                                         0.856516   \n\n   percent_to_income_4br_15yr_Payment_20_Perc_Down  \\\n0                                         0.748148   \n1                                         0.682129   \n2                                         0.694761   \n3                                         0.751352   \n4                                         0.752202   \n5                                         0.752962   \n6                                         0.802957   \n7                                         0.867866   \n8                                         0.780212   \n9                                         0.761348   \n\n   percent_to_income_4br_30yr_Payment_10_Perc_Down  \\\n0                                         0.585783   \n1                                         0.511460   \n2                                         0.534932   \n3                                         0.584537   \n4                                         0.570885   \n5                                         0.563875   \n6                                         0.611736   \n7                                         0.671939   \n8                                         0.586355   \n9                                         0.544974   \n\n   percent_to_income_4br_30yr_Payment_20_Perc_Down  \\\n0                                         0.520696   \n1                                         0.454630   \n2                                         0.475494   \n3                                         0.519589   \n4                                         0.507454   \n5                                         0.501223   \n6                                         0.543766   \n7                                         0.597278   \n8                                         0.521206   \n9                                         0.484423   \n\n   percent_to_income_5_plus_br_15yr_Payment_10_Perc_Down  \\\n0                                           1.042128       \n1                                           0.958328       \n2                                           0.990777       \n3                                           1.087508       \n4                                           1.118106       \n5                                           1.138408       \n6                                           1.216723       \n7                                           1.308726       \n8                                           1.186749       \n9                                           1.164594       \n\n   percent_to_income_5_plus_br_15yr_Payment_20_Perc_Down  \\\n0                                           0.926337       \n1                                           0.851846       \n2                                           0.880692       \n3                                           0.966673       \n4                                           0.993872       \n5                                           1.011918       \n6                                           1.081532       \n7                                           1.163311       \n8                                           1.054889       \n9                                           1.035194       \n\n   percent_to_income_5_plus_br_30yr_Payment_10_Perc_Down  \\\n0                                           0.725301       \n1                                           0.638713       \n2                                           0.678087       \n3                                           0.752054       \n4                                           0.754300       \n5                                           0.757801       \n6                                           0.823971       \n7                                           0.900686       \n8                                           0.792785       \n9                                           0.740995       \n\n   percent_to_income_5_plus_br_30yr_Payment_20_Perc_Down  \n0                                           0.644712      \n1                                           0.567745      \n2                                           0.602746      \n3                                           0.668491      \n4                                           0.670491      \n5                                           0.673599      \n6                                           0.732418      \n7                                           0.800610      \n8                                           0.704697      \n9                                           0.658661      \n\n[10 rows x 28 columns]",
      "text/html": "<div>\n<style scoped>\n    .dataframe tbody tr th:only-of-type {\n        vertical-align: middle;\n    }\n\n    .dataframe tbody tr th {\n        vertical-align: top;\n    }\n\n    .dataframe thead th {\n        text-align: right;\n    }\n</style>\n<table border=\"1\" class=\"dataframe\">\n  <thead>\n    <tr style=\"text-align: right;\">\n      <th></th>\n      <th>Identifier</th>\n      <th>Observation_Date</th>\n      <th>Median_Monthly_Income</th>\n      <th>percent_to_income_rent</th>\n      <th>percent_to_income_home_15yr_Payment_10_Perc_Down</th>\n      <th>percent_to_income_home_15yr_Payment_20_Perc_Down</th>\n      <th>percent_to_income_home_30yr_Payment_10_Perc_Down</th>\n      <th>percent_to_income_home_30yr_Payment_20_Perc_Down</th>\n      <th>percent_to_income_1br_15yr_Payment_10_Perc_Down</th>\n      <th>percent_to_income_1br_15yr_Payment_20_Perc_Down</th>\n      <th>...</th>\n      <th>percent_to_income_3br_30yr_Payment_10_Perc_Down</th>\n      <th>percent_to_income_3br_30yr_Payment_20_Perc_Down</th>\n      <th>percent_to_income_4br_15yr_Payment_10_Perc_Down</th>\n      <th>percent_to_income_4br_15yr_Payment_20_Perc_Down</th>\n      <th>percent_to_income_4br_30yr_Payment_10_Perc_Down</th>\n      <th>percent_to_income_4br_30yr_Payment_20_Perc_Down</th>\n      <th>percent_to_income_5_plus_br_15yr_Payment_10_Perc_Down</th>\n      <th>percent_to_income_5_plus_br_15yr_Payment_20_Perc_Down</th>\n      <th>percent_to_income_5_plus_br_30yr_Payment_10_Perc_Down</th>\n      <th>percent_to_income_5_plus_br_30yr_Payment_20_Perc_Down</th>\n    </tr>\n  </thead>\n  <tbody>\n    <tr>\n      <th>0</th>\n      <td>201101</td>\n      <td>2011-01-01</td>\n      <td>4121.750000</td>\n      <td>0.283375</td>\n      <td>0.728261</td>\n      <td>0.647344</td>\n      <td>0.506855</td>\n      <td>0.450539</td>\n      <td>0.663044</td>\n      <td>0.589371</td>\n      <td>...</td>\n      <td>0.500904</td>\n      <td>0.445248</td>\n      <td>0.841667</td>\n      <td>0.748148</td>\n      <td>0.585783</td>\n      <td>0.520696</td>\n      <td>1.042128</td>\n      <td>0.926337</td>\n      <td>0.725301</td>\n      <td>0.644712</td>\n    </tr>\n    <tr>\n      <th>1</th>\n      <td>201201</td>\n      <td>2012-01-01</td>\n      <td>4241.250000</td>\n      <td>0.281992</td>\n      <td>0.660850</td>\n      <td>0.587421</td>\n      <td>0.440448</td>\n      <td>0.391510</td>\n      <td>0.614788</td>\n      <td>0.546478</td>\n      <td>...</td>\n      <td>0.435860</td>\n      <td>0.387431</td>\n      <td>0.767396</td>\n      <td>0.682129</td>\n      <td>0.511460</td>\n      <td>0.454630</td>\n      <td>0.958328</td>\n      <td>0.851846</td>\n      <td>0.638713</td>\n      <td>0.567745</td>\n    </tr>\n    <tr>\n      <th>2</th>\n      <td>201301</td>\n      <td>2013-01-01</td>\n      <td>4351.916667</td>\n      <td>0.282175</td>\n      <td>0.672253</td>\n      <td>0.597557</td>\n      <td>0.460089</td>\n      <td>0.408969</td>\n      <td>0.640674</td>\n      <td>0.569487</td>\n      <td>...</td>\n      <td>0.454496</td>\n      <td>0.403997</td>\n      <td>0.781607</td>\n      <td>0.694761</td>\n      <td>0.534932</td>\n      <td>0.475494</td>\n      <td>0.990777</td>\n      <td>0.880692</td>\n      <td>0.678087</td>\n      <td>0.602746</td>\n    </tr>\n    <tr>\n      <th>3</th>\n      <td>201401</td>\n      <td>2014-01-01</td>\n      <td>4416.333333</td>\n      <td>0.288927</td>\n      <td>0.717817</td>\n      <td>0.638059</td>\n      <td>0.496398</td>\n      <td>0.441242</td>\n      <td>0.699583</td>\n      <td>0.621851</td>\n      <td>...</td>\n      <td>0.490536</td>\n      <td>0.436031</td>\n      <td>0.845271</td>\n      <td>0.751352</td>\n      <td>0.584537</td>\n      <td>0.519589</td>\n      <td>1.087508</td>\n      <td>0.966673</td>\n      <td>0.752054</td>\n      <td>0.668491</td>\n    </tr>\n    <tr>\n      <th>4</th>\n      <td>201501</td>\n      <td>2015-01-01</td>\n      <td>4646.000000</td>\n      <td>0.283470</td>\n      <td>0.708336</td>\n      <td>0.629632</td>\n      <td>0.477861</td>\n      <td>0.424763</td>\n      <td>0.721926</td>\n      <td>0.641711</td>\n      <td>...</td>\n      <td>0.474589</td>\n      <td>0.421858</td>\n      <td>0.846227</td>\n      <td>0.752202</td>\n      <td>0.570885</td>\n      <td>0.507454</td>\n      <td>1.118106</td>\n      <td>0.993872</td>\n      <td>0.754300</td>\n      <td>0.670491</td>\n    </tr>\n    <tr>\n      <th>5</th>\n      <td>201601</td>\n      <td>2016-01-01</td>\n      <td>4904.666667</td>\n      <td>0.275452</td>\n      <td>0.711861</td>\n      <td>0.632765</td>\n      <td>0.473863</td>\n      <td>0.421211</td>\n      <td>0.717906</td>\n      <td>0.638139</td>\n      <td>...</td>\n      <td>0.466823</td>\n      <td>0.414954</td>\n      <td>0.847083</td>\n      <td>0.752962</td>\n      <td>0.563875</td>\n      <td>0.501223</td>\n      <td>1.138408</td>\n      <td>1.011918</td>\n      <td>0.757801</td>\n      <td>0.673599</td>\n    </tr>\n    <tr>\n      <th>6</th>\n      <td>201701</td>\n      <td>2017-01-01</td>\n      <td>5073.250000</td>\n      <td>0.271818</td>\n      <td>0.761518</td>\n      <td>0.676905</td>\n      <td>0.515705</td>\n      <td>0.458404</td>\n      <td>0.745674</td>\n      <td>0.662822</td>\n      <td>...</td>\n      <td>0.506860</td>\n      <td>0.450544</td>\n      <td>0.903326</td>\n      <td>0.802957</td>\n      <td>0.611736</td>\n      <td>0.543766</td>\n      <td>1.216723</td>\n      <td>1.081532</td>\n      <td>0.823971</td>\n      <td>0.732418</td>\n    </tr>\n    <tr>\n      <th>7</th>\n      <td>201801</td>\n      <td>2018-01-01</td>\n      <td>5316.583333</td>\n      <td>0.271415</td>\n      <td>0.823450</td>\n      <td>0.731955</td>\n      <td>0.566710</td>\n      <td>0.503743</td>\n      <td>0.771424</td>\n      <td>0.685709</td>\n      <td>...</td>\n      <td>0.558332</td>\n      <td>0.496296</td>\n      <td>0.976349</td>\n      <td>0.867866</td>\n      <td>0.671939</td>\n      <td>0.597278</td>\n      <td>1.308726</td>\n      <td>1.163311</td>\n      <td>0.900686</td>\n      <td>0.800610</td>\n    </tr>\n    <tr>\n      <th>8</th>\n      <td>201901</td>\n      <td>2019-01-01</td>\n      <td>5783.916667</td>\n      <td>0.256401</td>\n      <td>0.744295</td>\n      <td>0.661597</td>\n      <td>0.497212</td>\n      <td>0.441967</td>\n      <td>0.674794</td>\n      <td>0.599817</td>\n      <td>...</td>\n      <td>0.487379</td>\n      <td>0.433225</td>\n      <td>0.877739</td>\n      <td>0.780212</td>\n      <td>0.586355</td>\n      <td>0.521206</td>\n      <td>1.186749</td>\n      <td>1.054889</td>\n      <td>0.792785</td>\n      <td>0.704697</td>\n    </tr>\n    <tr>\n      <th>9</th>\n      <td>202001</td>\n      <td>2020-01-01</td>\n      <td>5587.166667</td>\n      <td>0.266504</td>\n      <td>0.729595</td>\n      <td>0.648529</td>\n      <td>0.464217</td>\n      <td>0.412638</td>\n      <td>0.650816</td>\n      <td>0.578504</td>\n      <td>...</td>\n      <td>0.454459</td>\n      <td>0.403963</td>\n      <td>0.856516</td>\n      <td>0.761348</td>\n      <td>0.544974</td>\n      <td>0.484423</td>\n      <td>1.164594</td>\n      <td>1.035194</td>\n      <td>0.740995</td>\n      <td>0.658661</td>\n    </tr>\n  </tbody>\n</table>\n<p>10 rows × 28 columns</p>\n</div>"
     },
     "execution_count": 10,
     "metadata": {},
     "output_type": "execute_result"
    }
   ],
   "source": [
    "# View Affordability Dataframe\n",
    "percent_to_income_df.head(10)"
   ],
   "metadata": {
    "collapsed": false,
    "pycharm": {
     "name": "#%%\n"
    }
   }
  },
  {
   "cell_type": "code",
   "execution_count": 11,
   "outputs": [],
   "source": [
    "# Format the float fields to 3 decimal places\n",
    "percent_to_income_df= percent_to_income_df.round(decimals = 2)"
   ],
   "metadata": {
    "collapsed": false,
    "pycharm": {
     "name": "#%%\n"
    }
   }
  },
  {
   "cell_type": "code",
   "execution_count": 12,
   "outputs": [
    {
     "data": {
      "text/plain": "   Identifier Observation_Date  Median_Monthly_Income  percent_to_income_rent  \\\n0      201101       2011-01-01                4121.75                    0.28   \n1      201201       2012-01-01                4241.25                    0.28   \n2      201301       2013-01-01                4351.92                    0.28   \n3      201401       2014-01-01                4416.33                    0.29   \n4      201501       2015-01-01                4646.00                    0.28   \n5      201601       2016-01-01                4904.67                    0.28   \n6      201701       2017-01-01                5073.25                    0.27   \n7      201801       2018-01-01                5316.58                    0.27   \n8      201901       2019-01-01                5783.92                    0.26   \n9      202001       2020-01-01                5587.17                    0.27   \n\n   percent_to_income_home_15yr_Payment_10_Perc_Down  \\\n0                                              0.73   \n1                                              0.66   \n2                                              0.67   \n3                                              0.72   \n4                                              0.71   \n5                                              0.71   \n6                                              0.76   \n7                                              0.82   \n8                                              0.74   \n9                                              0.73   \n\n   percent_to_income_home_15yr_Payment_20_Perc_Down  \\\n0                                              0.65   \n1                                              0.59   \n2                                              0.60   \n3                                              0.64   \n4                                              0.63   \n5                                              0.63   \n6                                              0.68   \n7                                              0.73   \n8                                              0.66   \n9                                              0.65   \n\n   percent_to_income_home_30yr_Payment_10_Perc_Down  \\\n0                                              0.51   \n1                                              0.44   \n2                                              0.46   \n3                                              0.50   \n4                                              0.48   \n5                                              0.47   \n6                                              0.52   \n7                                              0.57   \n8                                              0.50   \n9                                              0.46   \n\n   percent_to_income_home_30yr_Payment_20_Perc_Down  \\\n0                                              0.45   \n1                                              0.39   \n2                                              0.41   \n3                                              0.44   \n4                                              0.42   \n5                                              0.42   \n6                                              0.46   \n7                                              0.50   \n8                                              0.44   \n9                                              0.41   \n\n   percent_to_income_1br_15yr_Payment_10_Perc_Down  \\\n0                                             0.66   \n1                                             0.61   \n2                                             0.64   \n3                                             0.70   \n4                                             0.72   \n5                                             0.72   \n6                                             0.75   \n7                                             0.77   \n8                                             0.67   \n9                                             0.65   \n\n   percent_to_income_1br_15yr_Payment_20_Perc_Down  ...  \\\n0                                             0.59  ...   \n1                                             0.55  ...   \n2                                             0.57  ...   \n3                                             0.62  ...   \n4                                             0.64  ...   \n5                                             0.64  ...   \n6                                             0.66  ...   \n7                                             0.69  ...   \n8                                             0.60  ...   \n9                                             0.58  ...   \n\n   percent_to_income_3br_30yr_Payment_10_Perc_Down  \\\n0                                             0.50   \n1                                             0.44   \n2                                             0.45   \n3                                             0.49   \n4                                             0.47   \n5                                             0.47   \n6                                             0.51   \n7                                             0.56   \n8                                             0.49   \n9                                             0.45   \n\n   percent_to_income_3br_30yr_Payment_20_Perc_Down  \\\n0                                             0.45   \n1                                             0.39   \n2                                             0.40   \n3                                             0.44   \n4                                             0.42   \n5                                             0.41   \n6                                             0.45   \n7                                             0.50   \n8                                             0.43   \n9                                             0.40   \n\n   percent_to_income_4br_15yr_Payment_10_Perc_Down  \\\n0                                             0.84   \n1                                             0.77   \n2                                             0.78   \n3                                             0.85   \n4                                             0.85   \n5                                             0.85   \n6                                             0.90   \n7                                             0.98   \n8                                             0.88   \n9                                             0.86   \n\n   percent_to_income_4br_15yr_Payment_20_Perc_Down  \\\n0                                             0.75   \n1                                             0.68   \n2                                             0.69   \n3                                             0.75   \n4                                             0.75   \n5                                             0.75   \n6                                             0.80   \n7                                             0.87   \n8                                             0.78   \n9                                             0.76   \n\n   percent_to_income_4br_30yr_Payment_10_Perc_Down  \\\n0                                             0.59   \n1                                             0.51   \n2                                             0.53   \n3                                             0.58   \n4                                             0.57   \n5                                             0.56   \n6                                             0.61   \n7                                             0.67   \n8                                             0.59   \n9                                             0.54   \n\n   percent_to_income_4br_30yr_Payment_20_Perc_Down  \\\n0                                             0.52   \n1                                             0.45   \n2                                             0.48   \n3                                             0.52   \n4                                             0.51   \n5                                             0.50   \n6                                             0.54   \n7                                             0.60   \n8                                             0.52   \n9                                             0.48   \n\n   percent_to_income_5_plus_br_15yr_Payment_10_Perc_Down  \\\n0                                               1.04       \n1                                               0.96       \n2                                               0.99       \n3                                               1.09       \n4                                               1.12       \n5                                               1.14       \n6                                               1.22       \n7                                               1.31       \n8                                               1.19       \n9                                               1.16       \n\n   percent_to_income_5_plus_br_15yr_Payment_20_Perc_Down  \\\n0                                               0.93       \n1                                               0.85       \n2                                               0.88       \n3                                               0.97       \n4                                               0.99       \n5                                               1.01       \n6                                               1.08       \n7                                               1.16       \n8                                               1.05       \n9                                               1.04       \n\n   percent_to_income_5_plus_br_30yr_Payment_10_Perc_Down  \\\n0                                               0.73       \n1                                               0.64       \n2                                               0.68       \n3                                               0.75       \n4                                               0.75       \n5                                               0.76       \n6                                               0.82       \n7                                               0.90       \n8                                               0.79       \n9                                               0.74       \n\n   percent_to_income_5_plus_br_30yr_Payment_20_Perc_Down  \n0                                               0.64      \n1                                               0.57      \n2                                               0.60      \n3                                               0.67      \n4                                               0.67      \n5                                               0.67      \n6                                               0.73      \n7                                               0.80      \n8                                               0.70      \n9                                               0.66      \n\n[10 rows x 28 columns]",
      "text/html": "<div>\n<style scoped>\n    .dataframe tbody tr th:only-of-type {\n        vertical-align: middle;\n    }\n\n    .dataframe tbody tr th {\n        vertical-align: top;\n    }\n\n    .dataframe thead th {\n        text-align: right;\n    }\n</style>\n<table border=\"1\" class=\"dataframe\">\n  <thead>\n    <tr style=\"text-align: right;\">\n      <th></th>\n      <th>Identifier</th>\n      <th>Observation_Date</th>\n      <th>Median_Monthly_Income</th>\n      <th>percent_to_income_rent</th>\n      <th>percent_to_income_home_15yr_Payment_10_Perc_Down</th>\n      <th>percent_to_income_home_15yr_Payment_20_Perc_Down</th>\n      <th>percent_to_income_home_30yr_Payment_10_Perc_Down</th>\n      <th>percent_to_income_home_30yr_Payment_20_Perc_Down</th>\n      <th>percent_to_income_1br_15yr_Payment_10_Perc_Down</th>\n      <th>percent_to_income_1br_15yr_Payment_20_Perc_Down</th>\n      <th>...</th>\n      <th>percent_to_income_3br_30yr_Payment_10_Perc_Down</th>\n      <th>percent_to_income_3br_30yr_Payment_20_Perc_Down</th>\n      <th>percent_to_income_4br_15yr_Payment_10_Perc_Down</th>\n      <th>percent_to_income_4br_15yr_Payment_20_Perc_Down</th>\n      <th>percent_to_income_4br_30yr_Payment_10_Perc_Down</th>\n      <th>percent_to_income_4br_30yr_Payment_20_Perc_Down</th>\n      <th>percent_to_income_5_plus_br_15yr_Payment_10_Perc_Down</th>\n      <th>percent_to_income_5_plus_br_15yr_Payment_20_Perc_Down</th>\n      <th>percent_to_income_5_plus_br_30yr_Payment_10_Perc_Down</th>\n      <th>percent_to_income_5_plus_br_30yr_Payment_20_Perc_Down</th>\n    </tr>\n  </thead>\n  <tbody>\n    <tr>\n      <th>0</th>\n      <td>201101</td>\n      <td>2011-01-01</td>\n      <td>4121.75</td>\n      <td>0.28</td>\n      <td>0.73</td>\n      <td>0.65</td>\n      <td>0.51</td>\n      <td>0.45</td>\n      <td>0.66</td>\n      <td>0.59</td>\n      <td>...</td>\n      <td>0.50</td>\n      <td>0.45</td>\n      <td>0.84</td>\n      <td>0.75</td>\n      <td>0.59</td>\n      <td>0.52</td>\n      <td>1.04</td>\n      <td>0.93</td>\n      <td>0.73</td>\n      <td>0.64</td>\n    </tr>\n    <tr>\n      <th>1</th>\n      <td>201201</td>\n      <td>2012-01-01</td>\n      <td>4241.25</td>\n      <td>0.28</td>\n      <td>0.66</td>\n      <td>0.59</td>\n      <td>0.44</td>\n      <td>0.39</td>\n      <td>0.61</td>\n      <td>0.55</td>\n      <td>...</td>\n      <td>0.44</td>\n      <td>0.39</td>\n      <td>0.77</td>\n      <td>0.68</td>\n      <td>0.51</td>\n      <td>0.45</td>\n      <td>0.96</td>\n      <td>0.85</td>\n      <td>0.64</td>\n      <td>0.57</td>\n    </tr>\n    <tr>\n      <th>2</th>\n      <td>201301</td>\n      <td>2013-01-01</td>\n      <td>4351.92</td>\n      <td>0.28</td>\n      <td>0.67</td>\n      <td>0.60</td>\n      <td>0.46</td>\n      <td>0.41</td>\n      <td>0.64</td>\n      <td>0.57</td>\n      <td>...</td>\n      <td>0.45</td>\n      <td>0.40</td>\n      <td>0.78</td>\n      <td>0.69</td>\n      <td>0.53</td>\n      <td>0.48</td>\n      <td>0.99</td>\n      <td>0.88</td>\n      <td>0.68</td>\n      <td>0.60</td>\n    </tr>\n    <tr>\n      <th>3</th>\n      <td>201401</td>\n      <td>2014-01-01</td>\n      <td>4416.33</td>\n      <td>0.29</td>\n      <td>0.72</td>\n      <td>0.64</td>\n      <td>0.50</td>\n      <td>0.44</td>\n      <td>0.70</td>\n      <td>0.62</td>\n      <td>...</td>\n      <td>0.49</td>\n      <td>0.44</td>\n      <td>0.85</td>\n      <td>0.75</td>\n      <td>0.58</td>\n      <td>0.52</td>\n      <td>1.09</td>\n      <td>0.97</td>\n      <td>0.75</td>\n      <td>0.67</td>\n    </tr>\n    <tr>\n      <th>4</th>\n      <td>201501</td>\n      <td>2015-01-01</td>\n      <td>4646.00</td>\n      <td>0.28</td>\n      <td>0.71</td>\n      <td>0.63</td>\n      <td>0.48</td>\n      <td>0.42</td>\n      <td>0.72</td>\n      <td>0.64</td>\n      <td>...</td>\n      <td>0.47</td>\n      <td>0.42</td>\n      <td>0.85</td>\n      <td>0.75</td>\n      <td>0.57</td>\n      <td>0.51</td>\n      <td>1.12</td>\n      <td>0.99</td>\n      <td>0.75</td>\n      <td>0.67</td>\n    </tr>\n    <tr>\n      <th>5</th>\n      <td>201601</td>\n      <td>2016-01-01</td>\n      <td>4904.67</td>\n      <td>0.28</td>\n      <td>0.71</td>\n      <td>0.63</td>\n      <td>0.47</td>\n      <td>0.42</td>\n      <td>0.72</td>\n      <td>0.64</td>\n      <td>...</td>\n      <td>0.47</td>\n      <td>0.41</td>\n      <td>0.85</td>\n      <td>0.75</td>\n      <td>0.56</td>\n      <td>0.50</td>\n      <td>1.14</td>\n      <td>1.01</td>\n      <td>0.76</td>\n      <td>0.67</td>\n    </tr>\n    <tr>\n      <th>6</th>\n      <td>201701</td>\n      <td>2017-01-01</td>\n      <td>5073.25</td>\n      <td>0.27</td>\n      <td>0.76</td>\n      <td>0.68</td>\n      <td>0.52</td>\n      <td>0.46</td>\n      <td>0.75</td>\n      <td>0.66</td>\n      <td>...</td>\n      <td>0.51</td>\n      <td>0.45</td>\n      <td>0.90</td>\n      <td>0.80</td>\n      <td>0.61</td>\n      <td>0.54</td>\n      <td>1.22</td>\n      <td>1.08</td>\n      <td>0.82</td>\n      <td>0.73</td>\n    </tr>\n    <tr>\n      <th>7</th>\n      <td>201801</td>\n      <td>2018-01-01</td>\n      <td>5316.58</td>\n      <td>0.27</td>\n      <td>0.82</td>\n      <td>0.73</td>\n      <td>0.57</td>\n      <td>0.50</td>\n      <td>0.77</td>\n      <td>0.69</td>\n      <td>...</td>\n      <td>0.56</td>\n      <td>0.50</td>\n      <td>0.98</td>\n      <td>0.87</td>\n      <td>0.67</td>\n      <td>0.60</td>\n      <td>1.31</td>\n      <td>1.16</td>\n      <td>0.90</td>\n      <td>0.80</td>\n    </tr>\n    <tr>\n      <th>8</th>\n      <td>201901</td>\n      <td>2019-01-01</td>\n      <td>5783.92</td>\n      <td>0.26</td>\n      <td>0.74</td>\n      <td>0.66</td>\n      <td>0.50</td>\n      <td>0.44</td>\n      <td>0.67</td>\n      <td>0.60</td>\n      <td>...</td>\n      <td>0.49</td>\n      <td>0.43</td>\n      <td>0.88</td>\n      <td>0.78</td>\n      <td>0.59</td>\n      <td>0.52</td>\n      <td>1.19</td>\n      <td>1.05</td>\n      <td>0.79</td>\n      <td>0.70</td>\n    </tr>\n    <tr>\n      <th>9</th>\n      <td>202001</td>\n      <td>2020-01-01</td>\n      <td>5587.17</td>\n      <td>0.27</td>\n      <td>0.73</td>\n      <td>0.65</td>\n      <td>0.46</td>\n      <td>0.41</td>\n      <td>0.65</td>\n      <td>0.58</td>\n      <td>...</td>\n      <td>0.45</td>\n      <td>0.40</td>\n      <td>0.86</td>\n      <td>0.76</td>\n      <td>0.54</td>\n      <td>0.48</td>\n      <td>1.16</td>\n      <td>1.04</td>\n      <td>0.74</td>\n      <td>0.66</td>\n    </tr>\n  </tbody>\n</table>\n<p>10 rows × 28 columns</p>\n</div>"
     },
     "execution_count": 12,
     "metadata": {},
     "output_type": "execute_result"
    }
   ],
   "source": [
    "# View Resulting Dataframe\n",
    "percent_to_income_df.head(10)"
   ],
   "metadata": {
    "collapsed": false,
    "pycharm": {
     "name": "#%%\n"
    }
   }
  },
  {
   "cell_type": "code",
   "execution_count": 13,
   "outputs": [],
   "source": [
    "# Save affordability_df to csv\n",
    "percent_to_income_df.to_csv('Datasets/CSV/percent_to_income_scores.csv', index=False)"
   ],
   "metadata": {
    "collapsed": false,
    "pycharm": {
     "name": "#%%\n"
    }
   }
  },
  {
   "cell_type": "code",
   "execution_count": 14,
   "outputs": [],
   "source": [
    "# Save affordability_df to Excel file\n",
    "percent_to_income_df.to_excel(\"Datasets/percent_to_income_scores.xlsx\", sheet_name='Data', index=False)"
   ],
   "metadata": {
    "collapsed": false,
    "pycharm": {
     "name": "#%%\n"
    }
   }
  }
 ],
 "metadata": {
  "kernelspec": {
   "display_name": "Python 3",
   "language": "python",
   "name": "python3"
  },
  "language_info": {
   "codemirror_mode": {
    "name": "ipython",
    "version": 2
   },
   "file_extension": ".py",
   "mimetype": "text/x-python",
   "name": "python",
   "nbconvert_exporter": "python",
   "pygments_lexer": "ipython2",
   "version": "2.7.6"
  }
 },
 "nbformat": 4,
 "nbformat_minor": 0
}